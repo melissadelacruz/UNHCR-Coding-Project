{
  "cells": [
    {
      "cell_type": "code",
      "execution_count": null,
      "metadata": {
        "id": "lhRzy45970vW",
        "colab": {
          "base_uri": "https://localhost:8080/"
        },
        "outputId": "f0fef4ef-efae-4b42-d8d9-78f6ad507b1c"
      },
      "outputs": [
        {
          "output_type": "stream",
          "name": "stdout",
          "text": [
            "Mounted at /content/gdrive\n"
          ]
        }
      ],
      "source": [
        "\n",
        "from google.colab import drive\n",
        "drive.mount(\"/content/gdrive\")"
      ]
    },
    {
      "cell_type": "code",
      "execution_count": null,
      "metadata": {
        "id": "y7ClKgJlabf6"
      },
      "outputs": [],
      "source": [
        "import os\n",
        "import pandas as pd\n",
        "import numpy as np\n",
        "%matplotlib inline\n",
        "import matplotlib.pyplot as plt\n",
        "import seaborn as sns\n",
        "sns.set_theme()\n",
        "from datetime import datetime"
      ]
    },
    {
      "cell_type": "code",
      "execution_count": null,
      "metadata": {
        "id": "9cQIaPp-aehS"
      },
      "outputs": [],
      "source": [
        "filename = \"/content/gdrive/MyDrive/ai_for_hearts/USAforUNHCR_LeadGen_Emails.csv\" #do we also combine this df?\n",
        "df = pd.read_csv(filename)\n",
        "\n",
        "filename2 = \"/content/gdrive/MyDrive/ai_for_hearts/updated_lgadv_contacts.csv\"\n",
        "df2 = pd.read_csv(filename2)\n",
        "\n",
        "filename3 = \"/content/gdrive/MyDrive/ai_for_hearts/clicks (1).csv\"\n",
        "df_click = pd.read_csv(filename3)\n",
        "\n",
        "filename4 = \"/content/gdrive/MyDrive/ai_for_hearts/opens (1).csv\"\n",
        "df_open = pd.read_csv(filename4)\n",
        "\n",
        "filename5 = \"/content/gdrive/MyDrive/ai_for_hearts/sent (1).csv\"\n",
        "df_sent = pd.read_csv(filename5)\n"
      ]
    },
    {
      "cell_type": "markdown",
      "source": [
        "## DATA UNDERSTADING"
      ],
      "metadata": {
        "id": "xAho_G2kSvGS"
      }
    },
    {
      "cell_type": "code",
      "execution_count": null,
      "metadata": {
        "id": "rwcVPMU4X8My",
        "colab": {
          "base_uri": "https://localhost:8080/",
          "height": 206
        },
        "outputId": "6f87db24-1a3f-4865-8cac-d2dc3852172e"
      },
      "outputs": [
        {
          "output_type": "execute_result",
          "data": {
            "text/plain": [
              "            contactid  emailid                                 emailname  \\\n",
              "0  0031K0000385TbjQAE    37925  201906 - Lead Gen Welcome - Email 1 - DM   \n",
              "1  0031K0000385TiGQAU    37925  201906 - Lead Gen Welcome - Email 1 - DM   \n",
              "2  0031K0000385TP9QAM    37925  201906 - Lead Gen Welcome - Email 1 - DM   \n",
              "3  0031K0000385TQbQAM    37925  201906 - Lead Gen Welcome - Email 1 - DM   \n",
              "4  0031K0000385TqzQAE    37925  201906 - Lead Gen Welcome - Email 1 - DM   \n",
              "\n",
              "                        senddate opendate clickdate  \n",
              "0  2022-01-01 09:03:41.760000000      NaN       NaN  \n",
              "1  2022-01-01 09:03:41.760000000      NaN       NaN  \n",
              "2  2022-01-01 09:03:41.760000000      NaN       NaN  \n",
              "3  2022-01-01 09:03:41.760000000      NaN       NaN  \n",
              "4  2022-01-01 09:03:41.760000000      NaN       NaN  "
            ],
            "text/html": [
              "\n",
              "  <div id=\"df-a98318d2-49dd-4c5d-ba3d-8aef78b203e1\">\n",
              "    <div class=\"colab-df-container\">\n",
              "      <div>\n",
              "<style scoped>\n",
              "    .dataframe tbody tr th:only-of-type {\n",
              "        vertical-align: middle;\n",
              "    }\n",
              "\n",
              "    .dataframe tbody tr th {\n",
              "        vertical-align: top;\n",
              "    }\n",
              "\n",
              "    .dataframe thead th {\n",
              "        text-align: right;\n",
              "    }\n",
              "</style>\n",
              "<table border=\"1\" class=\"dataframe\">\n",
              "  <thead>\n",
              "    <tr style=\"text-align: right;\">\n",
              "      <th></th>\n",
              "      <th>contactid</th>\n",
              "      <th>emailid</th>\n",
              "      <th>emailname</th>\n",
              "      <th>senddate</th>\n",
              "      <th>opendate</th>\n",
              "      <th>clickdate</th>\n",
              "    </tr>\n",
              "  </thead>\n",
              "  <tbody>\n",
              "    <tr>\n",
              "      <th>0</th>\n",
              "      <td>0031K0000385TbjQAE</td>\n",
              "      <td>37925</td>\n",
              "      <td>201906 - Lead Gen Welcome - Email 1 - DM</td>\n",
              "      <td>2022-01-01 09:03:41.760000000</td>\n",
              "      <td>NaN</td>\n",
              "      <td>NaN</td>\n",
              "    </tr>\n",
              "    <tr>\n",
              "      <th>1</th>\n",
              "      <td>0031K0000385TiGQAU</td>\n",
              "      <td>37925</td>\n",
              "      <td>201906 - Lead Gen Welcome - Email 1 - DM</td>\n",
              "      <td>2022-01-01 09:03:41.760000000</td>\n",
              "      <td>NaN</td>\n",
              "      <td>NaN</td>\n",
              "    </tr>\n",
              "    <tr>\n",
              "      <th>2</th>\n",
              "      <td>0031K0000385TP9QAM</td>\n",
              "      <td>37925</td>\n",
              "      <td>201906 - Lead Gen Welcome - Email 1 - DM</td>\n",
              "      <td>2022-01-01 09:03:41.760000000</td>\n",
              "      <td>NaN</td>\n",
              "      <td>NaN</td>\n",
              "    </tr>\n",
              "    <tr>\n",
              "      <th>3</th>\n",
              "      <td>0031K0000385TQbQAM</td>\n",
              "      <td>37925</td>\n",
              "      <td>201906 - Lead Gen Welcome - Email 1 - DM</td>\n",
              "      <td>2022-01-01 09:03:41.760000000</td>\n",
              "      <td>NaN</td>\n",
              "      <td>NaN</td>\n",
              "    </tr>\n",
              "    <tr>\n",
              "      <th>4</th>\n",
              "      <td>0031K0000385TqzQAE</td>\n",
              "      <td>37925</td>\n",
              "      <td>201906 - Lead Gen Welcome - Email 1 - DM</td>\n",
              "      <td>2022-01-01 09:03:41.760000000</td>\n",
              "      <td>NaN</td>\n",
              "      <td>NaN</td>\n",
              "    </tr>\n",
              "  </tbody>\n",
              "</table>\n",
              "</div>\n",
              "      <button class=\"colab-df-convert\" onclick=\"convertToInteractive('df-a98318d2-49dd-4c5d-ba3d-8aef78b203e1')\"\n",
              "              title=\"Convert this dataframe to an interactive table.\"\n",
              "              style=\"display:none;\">\n",
              "        \n",
              "  <svg xmlns=\"http://www.w3.org/2000/svg\" height=\"24px\"viewBox=\"0 0 24 24\"\n",
              "       width=\"24px\">\n",
              "    <path d=\"M0 0h24v24H0V0z\" fill=\"none\"/>\n",
              "    <path d=\"M18.56 5.44l.94 2.06.94-2.06 2.06-.94-2.06-.94-.94-2.06-.94 2.06-2.06.94zm-11 1L8.5 8.5l.94-2.06 2.06-.94-2.06-.94L8.5 2.5l-.94 2.06-2.06.94zm10 10l.94 2.06.94-2.06 2.06-.94-2.06-.94-.94-2.06-.94 2.06-2.06.94z\"/><path d=\"M17.41 7.96l-1.37-1.37c-.4-.4-.92-.59-1.43-.59-.52 0-1.04.2-1.43.59L10.3 9.45l-7.72 7.72c-.78.78-.78 2.05 0 2.83L4 21.41c.39.39.9.59 1.41.59.51 0 1.02-.2 1.41-.59l7.78-7.78 2.81-2.81c.8-.78.8-2.07 0-2.86zM5.41 20L4 18.59l7.72-7.72 1.47 1.35L5.41 20z\"/>\n",
              "  </svg>\n",
              "      </button>\n",
              "      \n",
              "  <style>\n",
              "    .colab-df-container {\n",
              "      display:flex;\n",
              "      flex-wrap:wrap;\n",
              "      gap: 12px;\n",
              "    }\n",
              "\n",
              "    .colab-df-convert {\n",
              "      background-color: #E8F0FE;\n",
              "      border: none;\n",
              "      border-radius: 50%;\n",
              "      cursor: pointer;\n",
              "      display: none;\n",
              "      fill: #1967D2;\n",
              "      height: 32px;\n",
              "      padding: 0 0 0 0;\n",
              "      width: 32px;\n",
              "    }\n",
              "\n",
              "    .colab-df-convert:hover {\n",
              "      background-color: #E2EBFA;\n",
              "      box-shadow: 0px 1px 2px rgba(60, 64, 67, 0.3), 0px 1px 3px 1px rgba(60, 64, 67, 0.15);\n",
              "      fill: #174EA6;\n",
              "    }\n",
              "\n",
              "    [theme=dark] .colab-df-convert {\n",
              "      background-color: #3B4455;\n",
              "      fill: #D2E3FC;\n",
              "    }\n",
              "\n",
              "    [theme=dark] .colab-df-convert:hover {\n",
              "      background-color: #434B5C;\n",
              "      box-shadow: 0px 1px 3px 1px rgba(0, 0, 0, 0.15);\n",
              "      filter: drop-shadow(0px 1px 2px rgba(0, 0, 0, 0.3));\n",
              "      fill: #FFFFFF;\n",
              "    }\n",
              "  </style>\n",
              "\n",
              "      <script>\n",
              "        const buttonEl =\n",
              "          document.querySelector('#df-a98318d2-49dd-4c5d-ba3d-8aef78b203e1 button.colab-df-convert');\n",
              "        buttonEl.style.display =\n",
              "          google.colab.kernel.accessAllowed ? 'block' : 'none';\n",
              "\n",
              "        async function convertToInteractive(key) {\n",
              "          const element = document.querySelector('#df-a98318d2-49dd-4c5d-ba3d-8aef78b203e1');\n",
              "          const dataTable =\n",
              "            await google.colab.kernel.invokeFunction('convertToInteractive',\n",
              "                                                     [key], {});\n",
              "          if (!dataTable) return;\n",
              "\n",
              "          const docLinkHtml = 'Like what you see? Visit the ' +\n",
              "            '<a target=\"_blank\" href=https://colab.research.google.com/notebooks/data_table.ipynb>data table notebook</a>'\n",
              "            + ' to learn more about interactive tables.';\n",
              "          element.innerHTML = '';\n",
              "          dataTable['output_type'] = 'display_data';\n",
              "          await google.colab.output.renderOutput(dataTable, element);\n",
              "          const docLink = document.createElement('div');\n",
              "          docLink.innerHTML = docLinkHtml;\n",
              "          element.appendChild(docLink);\n",
              "        }\n",
              "      </script>\n",
              "    </div>\n",
              "  </div>\n",
              "  "
            ]
          },
          "metadata": {},
          "execution_count": 4
        }
      ],
      "source": [
        "df.head()"
      ]
    },
    {
      "cell_type": "code",
      "execution_count": null,
      "metadata": {
        "id": "L5dWl5knYRvE",
        "colab": {
          "base_uri": "https://localhost:8080/",
          "height": 357
        },
        "outputId": "df0f7f9e-c700-4684-e4c4-915219f34ecf"
      },
      "outputs": [
        {
          "output_type": "execute_result",
          "data": {
            "text/plain": [
              "            contactid          campaignid           name  leadgen  advocacy  \\\n",
              "0  0031K0000385TNIQA2  7011K000001HSNYQA4  2021_YEMEN_FB        1         0   \n",
              "1  0031K0000385TZJQA2  7011K000001HSNYQA4  2021_YEMEN_FB        1         0   \n",
              "2  0031K0000385TavQAE  7011K000001HSNYQA4  2021_YEMEN_FB        1         0   \n",
              "3  0031K0000385Tc8QAE  7011K000001HSNYQA4  2021_YEMEN_FB        1         0   \n",
              "4  0031K0000385TdQQAU  7011K000001HSNYQA4  2021_YEMEN_FB        1         0   \n",
              "\n",
              "            accountid             createddate membership_type__c  \\\n",
              "0  0011K00002THMvxQAH  2022-01-01 00:08:27+00     Donor Prospect   \n",
              "1  0011K00002THN83QAH  2022-01-01 02:33:16+00     Donor Prospect   \n",
              "2  0011K00002THN9aQAH  2022-01-01 02:55:58+00     Donor Prospect   \n",
              "3  0011K00002THNAsQAP  2022-01-01 03:11:39+00     Donor Prospect   \n",
              "4  0011K00002THNCFQA5  2022-01-01 03:27:19+00     Donor Prospect   \n",
              "\n",
              "  first_gift_date__c  first_gift_amount__c mrc_date__c  mrc_amount__c  \\\n",
              "0                NaN                   NaN         NaN            NaN   \n",
              "1                NaN                   NaN         NaN            NaN   \n",
              "2                NaN                   NaN         NaN            NaN   \n",
              "3                NaN                   NaN         NaN            NaN   \n",
              "4                NaN                   NaN         NaN            NaN   \n",
              "\n",
              "   current_calendar_year_total_amount__c  \\\n",
              "0                                    NaN   \n",
              "1                                    NaN   \n",
              "2                                    NaN   \n",
              "3                                    NaN   \n",
              "4                                    NaN   \n",
              "\n",
              "   current_calendar_year_total_transactions__c  \\\n",
              "0                                          NaN   \n",
              "1                                          NaN   \n",
              "2                                          NaN   \n",
              "3                                          NaN   \n",
              "4                                          NaN   \n",
              "\n",
              "   previous_calendar_year_total_amount__c  \\\n",
              "0                                     NaN   \n",
              "1                                     NaN   \n",
              "2                                     NaN   \n",
              "3                                     NaN   \n",
              "4                                     NaN   \n",
              "\n",
              "   previous_calendar_year_total_transaction__c  total_amount__c  \\\n",
              "0                                          NaN              NaN   \n",
              "1                                          NaN              NaN   \n",
              "2                                          NaN              NaN   \n",
              "3                                          NaN              NaN   \n",
              "4                                          NaN              NaN   \n",
              "\n",
              "   total_transactions__c  email  phone  \n",
              "0                    NaN      1      1  \n",
              "1                    NaN      1      0  \n",
              "2                    NaN      1      0  \n",
              "3                    NaN      1      1  \n",
              "4                    NaN      1      0  "
            ],
            "text/html": [
              "\n",
              "  <div id=\"df-bdcef13d-efe4-4186-8333-a2daf77a6e1d\">\n",
              "    <div class=\"colab-df-container\">\n",
              "      <div>\n",
              "<style scoped>\n",
              "    .dataframe tbody tr th:only-of-type {\n",
              "        vertical-align: middle;\n",
              "    }\n",
              "\n",
              "    .dataframe tbody tr th {\n",
              "        vertical-align: top;\n",
              "    }\n",
              "\n",
              "    .dataframe thead th {\n",
              "        text-align: right;\n",
              "    }\n",
              "</style>\n",
              "<table border=\"1\" class=\"dataframe\">\n",
              "  <thead>\n",
              "    <tr style=\"text-align: right;\">\n",
              "      <th></th>\n",
              "      <th>contactid</th>\n",
              "      <th>campaignid</th>\n",
              "      <th>name</th>\n",
              "      <th>leadgen</th>\n",
              "      <th>advocacy</th>\n",
              "      <th>accountid</th>\n",
              "      <th>createddate</th>\n",
              "      <th>membership_type__c</th>\n",
              "      <th>first_gift_date__c</th>\n",
              "      <th>first_gift_amount__c</th>\n",
              "      <th>mrc_date__c</th>\n",
              "      <th>mrc_amount__c</th>\n",
              "      <th>current_calendar_year_total_amount__c</th>\n",
              "      <th>current_calendar_year_total_transactions__c</th>\n",
              "      <th>previous_calendar_year_total_amount__c</th>\n",
              "      <th>previous_calendar_year_total_transaction__c</th>\n",
              "      <th>total_amount__c</th>\n",
              "      <th>total_transactions__c</th>\n",
              "      <th>email</th>\n",
              "      <th>phone</th>\n",
              "    </tr>\n",
              "  </thead>\n",
              "  <tbody>\n",
              "    <tr>\n",
              "      <th>0</th>\n",
              "      <td>0031K0000385TNIQA2</td>\n",
              "      <td>7011K000001HSNYQA4</td>\n",
              "      <td>2021_YEMEN_FB</td>\n",
              "      <td>1</td>\n",
              "      <td>0</td>\n",
              "      <td>0011K00002THMvxQAH</td>\n",
              "      <td>2022-01-01 00:08:27+00</td>\n",
              "      <td>Donor Prospect</td>\n",
              "      <td>NaN</td>\n",
              "      <td>NaN</td>\n",
              "      <td>NaN</td>\n",
              "      <td>NaN</td>\n",
              "      <td>NaN</td>\n",
              "      <td>NaN</td>\n",
              "      <td>NaN</td>\n",
              "      <td>NaN</td>\n",
              "      <td>NaN</td>\n",
              "      <td>NaN</td>\n",
              "      <td>1</td>\n",
              "      <td>1</td>\n",
              "    </tr>\n",
              "    <tr>\n",
              "      <th>1</th>\n",
              "      <td>0031K0000385TZJQA2</td>\n",
              "      <td>7011K000001HSNYQA4</td>\n",
              "      <td>2021_YEMEN_FB</td>\n",
              "      <td>1</td>\n",
              "      <td>0</td>\n",
              "      <td>0011K00002THN83QAH</td>\n",
              "      <td>2022-01-01 02:33:16+00</td>\n",
              "      <td>Donor Prospect</td>\n",
              "      <td>NaN</td>\n",
              "      <td>NaN</td>\n",
              "      <td>NaN</td>\n",
              "      <td>NaN</td>\n",
              "      <td>NaN</td>\n",
              "      <td>NaN</td>\n",
              "      <td>NaN</td>\n",
              "      <td>NaN</td>\n",
              "      <td>NaN</td>\n",
              "      <td>NaN</td>\n",
              "      <td>1</td>\n",
              "      <td>0</td>\n",
              "    </tr>\n",
              "    <tr>\n",
              "      <th>2</th>\n",
              "      <td>0031K0000385TavQAE</td>\n",
              "      <td>7011K000001HSNYQA4</td>\n",
              "      <td>2021_YEMEN_FB</td>\n",
              "      <td>1</td>\n",
              "      <td>0</td>\n",
              "      <td>0011K00002THN9aQAH</td>\n",
              "      <td>2022-01-01 02:55:58+00</td>\n",
              "      <td>Donor Prospect</td>\n",
              "      <td>NaN</td>\n",
              "      <td>NaN</td>\n",
              "      <td>NaN</td>\n",
              "      <td>NaN</td>\n",
              "      <td>NaN</td>\n",
              "      <td>NaN</td>\n",
              "      <td>NaN</td>\n",
              "      <td>NaN</td>\n",
              "      <td>NaN</td>\n",
              "      <td>NaN</td>\n",
              "      <td>1</td>\n",
              "      <td>0</td>\n",
              "    </tr>\n",
              "    <tr>\n",
              "      <th>3</th>\n",
              "      <td>0031K0000385Tc8QAE</td>\n",
              "      <td>7011K000001HSNYQA4</td>\n",
              "      <td>2021_YEMEN_FB</td>\n",
              "      <td>1</td>\n",
              "      <td>0</td>\n",
              "      <td>0011K00002THNAsQAP</td>\n",
              "      <td>2022-01-01 03:11:39+00</td>\n",
              "      <td>Donor Prospect</td>\n",
              "      <td>NaN</td>\n",
              "      <td>NaN</td>\n",
              "      <td>NaN</td>\n",
              "      <td>NaN</td>\n",
              "      <td>NaN</td>\n",
              "      <td>NaN</td>\n",
              "      <td>NaN</td>\n",
              "      <td>NaN</td>\n",
              "      <td>NaN</td>\n",
              "      <td>NaN</td>\n",
              "      <td>1</td>\n",
              "      <td>1</td>\n",
              "    </tr>\n",
              "    <tr>\n",
              "      <th>4</th>\n",
              "      <td>0031K0000385TdQQAU</td>\n",
              "      <td>7011K000001HSNYQA4</td>\n",
              "      <td>2021_YEMEN_FB</td>\n",
              "      <td>1</td>\n",
              "      <td>0</td>\n",
              "      <td>0011K00002THNCFQA5</td>\n",
              "      <td>2022-01-01 03:27:19+00</td>\n",
              "      <td>Donor Prospect</td>\n",
              "      <td>NaN</td>\n",
              "      <td>NaN</td>\n",
              "      <td>NaN</td>\n",
              "      <td>NaN</td>\n",
              "      <td>NaN</td>\n",
              "      <td>NaN</td>\n",
              "      <td>NaN</td>\n",
              "      <td>NaN</td>\n",
              "      <td>NaN</td>\n",
              "      <td>NaN</td>\n",
              "      <td>1</td>\n",
              "      <td>0</td>\n",
              "    </tr>\n",
              "  </tbody>\n",
              "</table>\n",
              "</div>\n",
              "      <button class=\"colab-df-convert\" onclick=\"convertToInteractive('df-bdcef13d-efe4-4186-8333-a2daf77a6e1d')\"\n",
              "              title=\"Convert this dataframe to an interactive table.\"\n",
              "              style=\"display:none;\">\n",
              "        \n",
              "  <svg xmlns=\"http://www.w3.org/2000/svg\" height=\"24px\"viewBox=\"0 0 24 24\"\n",
              "       width=\"24px\">\n",
              "    <path d=\"M0 0h24v24H0V0z\" fill=\"none\"/>\n",
              "    <path d=\"M18.56 5.44l.94 2.06.94-2.06 2.06-.94-2.06-.94-.94-2.06-.94 2.06-2.06.94zm-11 1L8.5 8.5l.94-2.06 2.06-.94-2.06-.94L8.5 2.5l-.94 2.06-2.06.94zm10 10l.94 2.06.94-2.06 2.06-.94-2.06-.94-.94-2.06-.94 2.06-2.06.94z\"/><path d=\"M17.41 7.96l-1.37-1.37c-.4-.4-.92-.59-1.43-.59-.52 0-1.04.2-1.43.59L10.3 9.45l-7.72 7.72c-.78.78-.78 2.05 0 2.83L4 21.41c.39.39.9.59 1.41.59.51 0 1.02-.2 1.41-.59l7.78-7.78 2.81-2.81c.8-.78.8-2.07 0-2.86zM5.41 20L4 18.59l7.72-7.72 1.47 1.35L5.41 20z\"/>\n",
              "  </svg>\n",
              "      </button>\n",
              "      \n",
              "  <style>\n",
              "    .colab-df-container {\n",
              "      display:flex;\n",
              "      flex-wrap:wrap;\n",
              "      gap: 12px;\n",
              "    }\n",
              "\n",
              "    .colab-df-convert {\n",
              "      background-color: #E8F0FE;\n",
              "      border: none;\n",
              "      border-radius: 50%;\n",
              "      cursor: pointer;\n",
              "      display: none;\n",
              "      fill: #1967D2;\n",
              "      height: 32px;\n",
              "      padding: 0 0 0 0;\n",
              "      width: 32px;\n",
              "    }\n",
              "\n",
              "    .colab-df-convert:hover {\n",
              "      background-color: #E2EBFA;\n",
              "      box-shadow: 0px 1px 2px rgba(60, 64, 67, 0.3), 0px 1px 3px 1px rgba(60, 64, 67, 0.15);\n",
              "      fill: #174EA6;\n",
              "    }\n",
              "\n",
              "    [theme=dark] .colab-df-convert {\n",
              "      background-color: #3B4455;\n",
              "      fill: #D2E3FC;\n",
              "    }\n",
              "\n",
              "    [theme=dark] .colab-df-convert:hover {\n",
              "      background-color: #434B5C;\n",
              "      box-shadow: 0px 1px 3px 1px rgba(0, 0, 0, 0.15);\n",
              "      filter: drop-shadow(0px 1px 2px rgba(0, 0, 0, 0.3));\n",
              "      fill: #FFFFFF;\n",
              "    }\n",
              "  </style>\n",
              "\n",
              "      <script>\n",
              "        const buttonEl =\n",
              "          document.querySelector('#df-bdcef13d-efe4-4186-8333-a2daf77a6e1d button.colab-df-convert');\n",
              "        buttonEl.style.display =\n",
              "          google.colab.kernel.accessAllowed ? 'block' : 'none';\n",
              "\n",
              "        async function convertToInteractive(key) {\n",
              "          const element = document.querySelector('#df-bdcef13d-efe4-4186-8333-a2daf77a6e1d');\n",
              "          const dataTable =\n",
              "            await google.colab.kernel.invokeFunction('convertToInteractive',\n",
              "                                                     [key], {});\n",
              "          if (!dataTable) return;\n",
              "\n",
              "          const docLinkHtml = 'Like what you see? Visit the ' +\n",
              "            '<a target=\"_blank\" href=https://colab.research.google.com/notebooks/data_table.ipynb>data table notebook</a>'\n",
              "            + ' to learn more about interactive tables.';\n",
              "          element.innerHTML = '';\n",
              "          dataTable['output_type'] = 'display_data';\n",
              "          await google.colab.output.renderOutput(dataTable, element);\n",
              "          const docLink = document.createElement('div');\n",
              "          docLink.innerHTML = docLinkHtml;\n",
              "          element.appendChild(docLink);\n",
              "        }\n",
              "      </script>\n",
              "    </div>\n",
              "  </div>\n",
              "  "
            ]
          },
          "metadata": {},
          "execution_count": 5
        }
      ],
      "source": [
        "df2.head()"
      ]
    },
    {
      "cell_type": "code",
      "execution_count": null,
      "metadata": {
        "id": "2PaJ19BPYTLt",
        "colab": {
          "base_uri": "https://localhost:8080/"
        },
        "outputId": "daf47b76-4783-4582-c7bf-fb57f7756d51"
      },
      "outputs": [
        {
          "output_type": "execute_result",
          "data": {
            "text/plain": [
              "(398061, 6)"
            ]
          },
          "metadata": {},
          "execution_count": 6
        }
      ],
      "source": [
        "df.shape"
      ]
    },
    {
      "cell_type": "code",
      "execution_count": null,
      "metadata": {
        "id": "20V1OrLpYVIk",
        "colab": {
          "base_uri": "https://localhost:8080/"
        },
        "outputId": "ec2b092c-b098-4376-d0fe-32475ae9832e"
      },
      "outputs": [
        {
          "output_type": "execute_result",
          "data": {
            "text/plain": [
              "(24713, 20)"
            ]
          },
          "metadata": {},
          "execution_count": 7
        }
      ],
      "source": [
        "df2.shape"
      ]
    },
    {
      "cell_type": "code",
      "execution_count": null,
      "metadata": {
        "id": "eeNb6NhEvqmR",
        "colab": {
          "base_uri": "https://localhost:8080/"
        },
        "outputId": "5ad6de87-b86a-42d9-c5f2-188f75608e31"
      },
      "outputs": [
        {
          "output_type": "execute_result",
          "data": {
            "text/plain": [
              "398061"
            ]
          },
          "metadata": {},
          "execution_count": 8
        }
      ],
      "source": [
        "df.shape[0]"
      ]
    },
    {
      "cell_type": "markdown",
      "metadata": {
        "id": "9TW3fSgpdh6h"
      },
      "source": [
        "dropping null values for datasets"
      ]
    },
    {
      "cell_type": "code",
      "execution_count": null,
      "metadata": {
        "id": "ulJ2E8M39ZYY",
        "colab": {
          "base_uri": "https://localhost:8080/"
        },
        "outputId": "71c9c012-c5fa-4bfd-8aa6-87fbf517081c"
      },
      "outputs": [
        {
          "output_type": "execute_result",
          "data": {
            "text/plain": [
              "contactid         0\n",
              "emailid           0\n",
              "emailname         0\n",
              "senddate          0\n",
              "opendate     308887\n",
              "clickdate    392130\n",
              "dtype: int64"
            ]
          },
          "metadata": {},
          "execution_count": 9
        }
      ],
      "source": [
        "#null value count for dataset 1\n",
        "nan_count = np.sum(df.isnull(), axis = 0)\n",
        "nan_count"
      ]
    },
    {
      "cell_type": "code",
      "execution_count": null,
      "metadata": {
        "id": "L2AFpE40XT2p",
        "colab": {
          "base_uri": "https://localhost:8080/"
        },
        "outputId": "72938a45-7619-4ca1-f9cf-9457e77b5492"
      },
      "outputs": [
        {
          "output_type": "execute_result",
          "data": {
            "text/plain": [
              "contactid                                          0\n",
              "campaignid                                         0\n",
              "name                                               0\n",
              "leadgen                                            0\n",
              "advocacy                                           0\n",
              "accountid                                          0\n",
              "createddate                                        0\n",
              "membership_type__c                                 0\n",
              "first_gift_date__c                             24511\n",
              "first_gift_amount__c                           24511\n",
              "mrc_date__c                                    24511\n",
              "mrc_amount__c                                  24511\n",
              "current_calendar_year_total_amount__c          24511\n",
              "current_calendar_year_total_transactions__c    24511\n",
              "previous_calendar_year_total_amount__c         24511\n",
              "previous_calendar_year_total_transaction__c    24511\n",
              "total_amount__c                                24506\n",
              "total_transactions__c                          24506\n",
              "email                                              0\n",
              "phone                                              0\n",
              "dtype: int64"
            ]
          },
          "metadata": {},
          "execution_count": 10
        }
      ],
      "source": [
        "#null value count for dataset 2\n",
        "nan_count2 = np.sum(df2.isnull(), axis = 0)\n",
        "nan_count2\n",
        "\n",
        "# observation: looks like 200 people donated from shape and the number of null values"
      ]
    },
    {
      "cell_type": "code",
      "execution_count": null,
      "metadata": {
        "id": "Mf2m8sI2XY5P",
        "colab": {
          "base_uri": "https://localhost:8080/"
        },
        "outputId": "1d301950-457e-4d29-ffbc-64c4eb4c4b19"
      },
      "outputs": [
        {
          "output_type": "execute_result",
          "data": {
            "text/plain": [
              "contactid    object\n",
              "emailid       int64\n",
              "emailname    object\n",
              "senddate     object\n",
              "opendate     object\n",
              "clickdate    object\n",
              "dtype: object"
            ]
          },
          "metadata": {},
          "execution_count": 11
        }
      ],
      "source": [
        "col_types1 = df.dtypes\n",
        "col_types1\n",
        "# all features are objects besides emailid which is an int type"
      ]
    },
    {
      "cell_type": "code",
      "execution_count": null,
      "metadata": {
        "id": "zaL2raQJYskV"
      },
      "outputs": [],
      "source": []
    },
    {
      "cell_type": "code",
      "execution_count": null,
      "metadata": {
        "id": "1WWwv8EqZERD",
        "colab": {
          "base_uri": "https://localhost:8080/"
        },
        "outputId": "00eb711b-5fda-4452-82b4-71ba25be4afc"
      },
      "outputs": [
        {
          "output_type": "execute_result",
          "data": {
            "text/plain": [
              "contactid                                       object\n",
              "campaignid                                      object\n",
              "name                                            object\n",
              "leadgen                                          int64\n",
              "advocacy                                         int64\n",
              "accountid                                       object\n",
              "createddate                                     object\n",
              "membership_type__c                              object\n",
              "first_gift_date__c                              object\n",
              "first_gift_amount__c                           float64\n",
              "mrc_date__c                                     object\n",
              "mrc_amount__c                                  float64\n",
              "current_calendar_year_total_amount__c          float64\n",
              "current_calendar_year_total_transactions__c    float64\n",
              "previous_calendar_year_total_amount__c         float64\n",
              "previous_calendar_year_total_transaction__c    float64\n",
              "total_amount__c                                float64\n",
              "total_transactions__c                          float64\n",
              "email                                            int64\n",
              "phone                                            int64\n",
              "dtype: object"
            ]
          },
          "metadata": {},
          "execution_count": 12
        }
      ],
      "source": [
        "col_types2 = df2.dtypes\n",
        "col_types2\n",
        "# donation amounts are floats"
      ]
    },
    {
      "cell_type": "code",
      "execution_count": null,
      "metadata": {
        "id": "hKHPlKcnlJNO"
      },
      "outputs": [],
      "source": []
    },
    {
      "cell_type": "code",
      "execution_count": null,
      "metadata": {
        "id": "EtP4yAOjg2p_",
        "colab": {
          "base_uri": "https://localhost:8080/",
          "height": 206
        },
        "outputId": "482eeba7-a723-4368-804d-3b29d03db46d"
      },
      "outputs": [
        {
          "output_type": "execute_result",
          "data": {
            "text/plain": [
              "             contactid  emailid  \\\n",
              "9   0031K0000385aRTQAY    37925   \n",
              "21  0031K0000385W1PQAU    89462   \n",
              "67  0031K0000385eVBQAY    37928   \n",
              "72  0031K0000385WEtQAM    37930   \n",
              "78  0031K0000385WFSQA2    39536   \n",
              "\n",
              "                                            emailname  \\\n",
              "9            201906 - Lead Gen Welcome - Email 1 - DM   \n",
              "21  20220105 - EOY Thank You Engagement - full fil...   \n",
              "67           201906 - Lead Gen Welcome - Email 3 - DM   \n",
              "72  201906 - Lead Gen Welcome - Email 4 - DM - sta...   \n",
              "78   201906 - Lead Gen Welcome - Email 4 - DM - donor   \n",
              "\n",
              "                         senddate             opendate clickdate  \n",
              "9   2022-01-04 09:07:44.720000000  2022-01-04 10:27:52       NaN  \n",
              "21  2022-01-05 11:02:52.350000000  2022-01-05 11:09:14       NaN  \n",
              "67  2022-01-11 09:07:44.643000000  2022-01-11 09:29:24       NaN  \n",
              "72  2022-01-12 09:06:13.660000000  2022-01-12 16:09:58       NaN  \n",
              "78  2022-01-12 09:06:43.100000000  2022-01-12 13:33:35       NaN  "
            ],
            "text/html": [
              "\n",
              "  <div id=\"df-0c77d2be-c71e-40a5-ae7d-1a84b972fb4e\">\n",
              "    <div class=\"colab-df-container\">\n",
              "      <div>\n",
              "<style scoped>\n",
              "    .dataframe tbody tr th:only-of-type {\n",
              "        vertical-align: middle;\n",
              "    }\n",
              "\n",
              "    .dataframe tbody tr th {\n",
              "        vertical-align: top;\n",
              "    }\n",
              "\n",
              "    .dataframe thead th {\n",
              "        text-align: right;\n",
              "    }\n",
              "</style>\n",
              "<table border=\"1\" class=\"dataframe\">\n",
              "  <thead>\n",
              "    <tr style=\"text-align: right;\">\n",
              "      <th></th>\n",
              "      <th>contactid</th>\n",
              "      <th>emailid</th>\n",
              "      <th>emailname</th>\n",
              "      <th>senddate</th>\n",
              "      <th>opendate</th>\n",
              "      <th>clickdate</th>\n",
              "    </tr>\n",
              "  </thead>\n",
              "  <tbody>\n",
              "    <tr>\n",
              "      <th>9</th>\n",
              "      <td>0031K0000385aRTQAY</td>\n",
              "      <td>37925</td>\n",
              "      <td>201906 - Lead Gen Welcome - Email 1 - DM</td>\n",
              "      <td>2022-01-04 09:07:44.720000000</td>\n",
              "      <td>2022-01-04 10:27:52</td>\n",
              "      <td>NaN</td>\n",
              "    </tr>\n",
              "    <tr>\n",
              "      <th>21</th>\n",
              "      <td>0031K0000385W1PQAU</td>\n",
              "      <td>89462</td>\n",
              "      <td>20220105 - EOY Thank You Engagement - full fil...</td>\n",
              "      <td>2022-01-05 11:02:52.350000000</td>\n",
              "      <td>2022-01-05 11:09:14</td>\n",
              "      <td>NaN</td>\n",
              "    </tr>\n",
              "    <tr>\n",
              "      <th>67</th>\n",
              "      <td>0031K0000385eVBQAY</td>\n",
              "      <td>37928</td>\n",
              "      <td>201906 - Lead Gen Welcome - Email 3 - DM</td>\n",
              "      <td>2022-01-11 09:07:44.643000000</td>\n",
              "      <td>2022-01-11 09:29:24</td>\n",
              "      <td>NaN</td>\n",
              "    </tr>\n",
              "    <tr>\n",
              "      <th>72</th>\n",
              "      <td>0031K0000385WEtQAM</td>\n",
              "      <td>37930</td>\n",
              "      <td>201906 - Lead Gen Welcome - Email 4 - DM - sta...</td>\n",
              "      <td>2022-01-12 09:06:13.660000000</td>\n",
              "      <td>2022-01-12 16:09:58</td>\n",
              "      <td>NaN</td>\n",
              "    </tr>\n",
              "    <tr>\n",
              "      <th>78</th>\n",
              "      <td>0031K0000385WFSQA2</td>\n",
              "      <td>39536</td>\n",
              "      <td>201906 - Lead Gen Welcome - Email 4 - DM - donor</td>\n",
              "      <td>2022-01-12 09:06:43.100000000</td>\n",
              "      <td>2022-01-12 13:33:35</td>\n",
              "      <td>NaN</td>\n",
              "    </tr>\n",
              "  </tbody>\n",
              "</table>\n",
              "</div>\n",
              "      <button class=\"colab-df-convert\" onclick=\"convertToInteractive('df-0c77d2be-c71e-40a5-ae7d-1a84b972fb4e')\"\n",
              "              title=\"Convert this dataframe to an interactive table.\"\n",
              "              style=\"display:none;\">\n",
              "        \n",
              "  <svg xmlns=\"http://www.w3.org/2000/svg\" height=\"24px\"viewBox=\"0 0 24 24\"\n",
              "       width=\"24px\">\n",
              "    <path d=\"M0 0h24v24H0V0z\" fill=\"none\"/>\n",
              "    <path d=\"M18.56 5.44l.94 2.06.94-2.06 2.06-.94-2.06-.94-.94-2.06-.94 2.06-2.06.94zm-11 1L8.5 8.5l.94-2.06 2.06-.94-2.06-.94L8.5 2.5l-.94 2.06-2.06.94zm10 10l.94 2.06.94-2.06 2.06-.94-2.06-.94-.94-2.06-.94 2.06-2.06.94z\"/><path d=\"M17.41 7.96l-1.37-1.37c-.4-.4-.92-.59-1.43-.59-.52 0-1.04.2-1.43.59L10.3 9.45l-7.72 7.72c-.78.78-.78 2.05 0 2.83L4 21.41c.39.39.9.59 1.41.59.51 0 1.02-.2 1.41-.59l7.78-7.78 2.81-2.81c.8-.78.8-2.07 0-2.86zM5.41 20L4 18.59l7.72-7.72 1.47 1.35L5.41 20z\"/>\n",
              "  </svg>\n",
              "      </button>\n",
              "      \n",
              "  <style>\n",
              "    .colab-df-container {\n",
              "      display:flex;\n",
              "      flex-wrap:wrap;\n",
              "      gap: 12px;\n",
              "    }\n",
              "\n",
              "    .colab-df-convert {\n",
              "      background-color: #E8F0FE;\n",
              "      border: none;\n",
              "      border-radius: 50%;\n",
              "      cursor: pointer;\n",
              "      display: none;\n",
              "      fill: #1967D2;\n",
              "      height: 32px;\n",
              "      padding: 0 0 0 0;\n",
              "      width: 32px;\n",
              "    }\n",
              "\n",
              "    .colab-df-convert:hover {\n",
              "      background-color: #E2EBFA;\n",
              "      box-shadow: 0px 1px 2px rgba(60, 64, 67, 0.3), 0px 1px 3px 1px rgba(60, 64, 67, 0.15);\n",
              "      fill: #174EA6;\n",
              "    }\n",
              "\n",
              "    [theme=dark] .colab-df-convert {\n",
              "      background-color: #3B4455;\n",
              "      fill: #D2E3FC;\n",
              "    }\n",
              "\n",
              "    [theme=dark] .colab-df-convert:hover {\n",
              "      background-color: #434B5C;\n",
              "      box-shadow: 0px 1px 3px 1px rgba(0, 0, 0, 0.15);\n",
              "      filter: drop-shadow(0px 1px 2px rgba(0, 0, 0, 0.3));\n",
              "      fill: #FFFFFF;\n",
              "    }\n",
              "  </style>\n",
              "\n",
              "      <script>\n",
              "        const buttonEl =\n",
              "          document.querySelector('#df-0c77d2be-c71e-40a5-ae7d-1a84b972fb4e button.colab-df-convert');\n",
              "        buttonEl.style.display =\n",
              "          google.colab.kernel.accessAllowed ? 'block' : 'none';\n",
              "\n",
              "        async function convertToInteractive(key) {\n",
              "          const element = document.querySelector('#df-0c77d2be-c71e-40a5-ae7d-1a84b972fb4e');\n",
              "          const dataTable =\n",
              "            await google.colab.kernel.invokeFunction('convertToInteractive',\n",
              "                                                     [key], {});\n",
              "          if (!dataTable) return;\n",
              "\n",
              "          const docLinkHtml = 'Like what you see? Visit the ' +\n",
              "            '<a target=\"_blank\" href=https://colab.research.google.com/notebooks/data_table.ipynb>data table notebook</a>'\n",
              "            + ' to learn more about interactive tables.';\n",
              "          element.innerHTML = '';\n",
              "          dataTable['output_type'] = 'display_data';\n",
              "          await google.colab.output.renderOutput(dataTable, element);\n",
              "          const docLink = document.createElement('div');\n",
              "          docLink.innerHTML = docLinkHtml;\n",
              "          element.appendChild(docLink);\n",
              "        }\n",
              "      </script>\n",
              "    </div>\n",
              "  </div>\n",
              "  "
            ]
          },
          "metadata": {},
          "execution_count": 13
        }
      ],
      "source": [
        "df1_no_na = df[df['opendate'].notna()]\n",
        "df1_no_na.head()"
      ]
    },
    {
      "cell_type": "code",
      "execution_count": null,
      "metadata": {
        "id": "bDgHzvullHWg",
        "colab": {
          "base_uri": "https://localhost:8080/",
          "height": 424
        },
        "outputId": "97b2a622-e5e6-457b-f5c8-a90fcbbb4c8a"
      },
      "outputs": [
        {
          "output_type": "execute_result",
          "data": {
            "text/plain": [
              "                 contactid  emailid  \\\n",
              "9       0031K0000385aRTQAY    37925   \n",
              "21      0031K0000385W1PQAU    89462   \n",
              "67      0031K0000385eVBQAY    37928   \n",
              "72      0031K0000385WEtQAM    37930   \n",
              "78      0031K0000385WFSQA2    39536   \n",
              "...                    ...      ...   \n",
              "398037  0031K00003Clo2VQAR    37928   \n",
              "398040  0031K00003Clo3aQAB    37928   \n",
              "398046  0031K00003Clo49QAB    37928   \n",
              "398051  0031K00003Clo6HQAR    37928   \n",
              "398056  0031K00003Clo7EQAR    37928   \n",
              "\n",
              "                                                emailname  \\\n",
              "9                201906 - Lead Gen Welcome - Email 1 - DM   \n",
              "21      20220105 - EOY Thank You Engagement - full fil...   \n",
              "67               201906 - Lead Gen Welcome - Email 3 - DM   \n",
              "72      201906 - Lead Gen Welcome - Email 4 - DM - sta...   \n",
              "78       201906 - Lead Gen Welcome - Email 4 - DM - donor   \n",
              "...                                                   ...   \n",
              "398037           201906 - Lead Gen Welcome - Email 3 - DM   \n",
              "398040           201906 - Lead Gen Welcome - Email 3 - DM   \n",
              "398046           201906 - Lead Gen Welcome - Email 3 - DM   \n",
              "398051           201906 - Lead Gen Welcome - Email 3 - DM   \n",
              "398056           201906 - Lead Gen Welcome - Email 3 - DM   \n",
              "\n",
              "                             senddate             opendate clickdate  \n",
              "9       2022-01-04 09:07:44.720000000  2022-01-04 10:27:52         0  \n",
              "21      2022-01-05 11:02:52.350000000  2022-01-05 11:09:14         0  \n",
              "67      2022-01-11 09:07:44.643000000  2022-01-11 09:29:24         0  \n",
              "72      2022-01-12 09:06:13.660000000  2022-01-12 16:09:58         0  \n",
              "78      2022-01-12 09:06:43.100000000  2022-01-12 13:33:35         0  \n",
              "...                               ...                  ...       ...  \n",
              "398037  2022-07-26 08:10:09.780000000  2022-07-26 09:54:02         0  \n",
              "398040  2022-07-26 08:10:09.780000000  2022-07-26 14:43:38         0  \n",
              "398046  2022-07-26 08:10:09.780000000  2022-07-26 19:04:50         0  \n",
              "398051  2022-07-26 08:10:09.780000000  2022-07-26 08:28:13         0  \n",
              "398056  2022-07-26 08:10:09.780000000  2022-07-26 09:38:23         0  \n",
              "\n",
              "[89174 rows x 6 columns]"
            ],
            "text/html": [
              "\n",
              "  <div id=\"df-cbe67e1b-be87-4c50-b5a5-563eaa0035af\">\n",
              "    <div class=\"colab-df-container\">\n",
              "      <div>\n",
              "<style scoped>\n",
              "    .dataframe tbody tr th:only-of-type {\n",
              "        vertical-align: middle;\n",
              "    }\n",
              "\n",
              "    .dataframe tbody tr th {\n",
              "        vertical-align: top;\n",
              "    }\n",
              "\n",
              "    .dataframe thead th {\n",
              "        text-align: right;\n",
              "    }\n",
              "</style>\n",
              "<table border=\"1\" class=\"dataframe\">\n",
              "  <thead>\n",
              "    <tr style=\"text-align: right;\">\n",
              "      <th></th>\n",
              "      <th>contactid</th>\n",
              "      <th>emailid</th>\n",
              "      <th>emailname</th>\n",
              "      <th>senddate</th>\n",
              "      <th>opendate</th>\n",
              "      <th>clickdate</th>\n",
              "    </tr>\n",
              "  </thead>\n",
              "  <tbody>\n",
              "    <tr>\n",
              "      <th>9</th>\n",
              "      <td>0031K0000385aRTQAY</td>\n",
              "      <td>37925</td>\n",
              "      <td>201906 - Lead Gen Welcome - Email 1 - DM</td>\n",
              "      <td>2022-01-04 09:07:44.720000000</td>\n",
              "      <td>2022-01-04 10:27:52</td>\n",
              "      <td>0</td>\n",
              "    </tr>\n",
              "    <tr>\n",
              "      <th>21</th>\n",
              "      <td>0031K0000385W1PQAU</td>\n",
              "      <td>89462</td>\n",
              "      <td>20220105 - EOY Thank You Engagement - full fil...</td>\n",
              "      <td>2022-01-05 11:02:52.350000000</td>\n",
              "      <td>2022-01-05 11:09:14</td>\n",
              "      <td>0</td>\n",
              "    </tr>\n",
              "    <tr>\n",
              "      <th>67</th>\n",
              "      <td>0031K0000385eVBQAY</td>\n",
              "      <td>37928</td>\n",
              "      <td>201906 - Lead Gen Welcome - Email 3 - DM</td>\n",
              "      <td>2022-01-11 09:07:44.643000000</td>\n",
              "      <td>2022-01-11 09:29:24</td>\n",
              "      <td>0</td>\n",
              "    </tr>\n",
              "    <tr>\n",
              "      <th>72</th>\n",
              "      <td>0031K0000385WEtQAM</td>\n",
              "      <td>37930</td>\n",
              "      <td>201906 - Lead Gen Welcome - Email 4 - DM - sta...</td>\n",
              "      <td>2022-01-12 09:06:13.660000000</td>\n",
              "      <td>2022-01-12 16:09:58</td>\n",
              "      <td>0</td>\n",
              "    </tr>\n",
              "    <tr>\n",
              "      <th>78</th>\n",
              "      <td>0031K0000385WFSQA2</td>\n",
              "      <td>39536</td>\n",
              "      <td>201906 - Lead Gen Welcome - Email 4 - DM - donor</td>\n",
              "      <td>2022-01-12 09:06:43.100000000</td>\n",
              "      <td>2022-01-12 13:33:35</td>\n",
              "      <td>0</td>\n",
              "    </tr>\n",
              "    <tr>\n",
              "      <th>...</th>\n",
              "      <td>...</td>\n",
              "      <td>...</td>\n",
              "      <td>...</td>\n",
              "      <td>...</td>\n",
              "      <td>...</td>\n",
              "      <td>...</td>\n",
              "    </tr>\n",
              "    <tr>\n",
              "      <th>398037</th>\n",
              "      <td>0031K00003Clo2VQAR</td>\n",
              "      <td>37928</td>\n",
              "      <td>201906 - Lead Gen Welcome - Email 3 - DM</td>\n",
              "      <td>2022-07-26 08:10:09.780000000</td>\n",
              "      <td>2022-07-26 09:54:02</td>\n",
              "      <td>0</td>\n",
              "    </tr>\n",
              "    <tr>\n",
              "      <th>398040</th>\n",
              "      <td>0031K00003Clo3aQAB</td>\n",
              "      <td>37928</td>\n",
              "      <td>201906 - Lead Gen Welcome - Email 3 - DM</td>\n",
              "      <td>2022-07-26 08:10:09.780000000</td>\n",
              "      <td>2022-07-26 14:43:38</td>\n",
              "      <td>0</td>\n",
              "    </tr>\n",
              "    <tr>\n",
              "      <th>398046</th>\n",
              "      <td>0031K00003Clo49QAB</td>\n",
              "      <td>37928</td>\n",
              "      <td>201906 - Lead Gen Welcome - Email 3 - DM</td>\n",
              "      <td>2022-07-26 08:10:09.780000000</td>\n",
              "      <td>2022-07-26 19:04:50</td>\n",
              "      <td>0</td>\n",
              "    </tr>\n",
              "    <tr>\n",
              "      <th>398051</th>\n",
              "      <td>0031K00003Clo6HQAR</td>\n",
              "      <td>37928</td>\n",
              "      <td>201906 - Lead Gen Welcome - Email 3 - DM</td>\n",
              "      <td>2022-07-26 08:10:09.780000000</td>\n",
              "      <td>2022-07-26 08:28:13</td>\n",
              "      <td>0</td>\n",
              "    </tr>\n",
              "    <tr>\n",
              "      <th>398056</th>\n",
              "      <td>0031K00003Clo7EQAR</td>\n",
              "      <td>37928</td>\n",
              "      <td>201906 - Lead Gen Welcome - Email 3 - DM</td>\n",
              "      <td>2022-07-26 08:10:09.780000000</td>\n",
              "      <td>2022-07-26 09:38:23</td>\n",
              "      <td>0</td>\n",
              "    </tr>\n",
              "  </tbody>\n",
              "</table>\n",
              "<p>89174 rows × 6 columns</p>\n",
              "</div>\n",
              "      <button class=\"colab-df-convert\" onclick=\"convertToInteractive('df-cbe67e1b-be87-4c50-b5a5-563eaa0035af')\"\n",
              "              title=\"Convert this dataframe to an interactive table.\"\n",
              "              style=\"display:none;\">\n",
              "        \n",
              "  <svg xmlns=\"http://www.w3.org/2000/svg\" height=\"24px\"viewBox=\"0 0 24 24\"\n",
              "       width=\"24px\">\n",
              "    <path d=\"M0 0h24v24H0V0z\" fill=\"none\"/>\n",
              "    <path d=\"M18.56 5.44l.94 2.06.94-2.06 2.06-.94-2.06-.94-.94-2.06-.94 2.06-2.06.94zm-11 1L8.5 8.5l.94-2.06 2.06-.94-2.06-.94L8.5 2.5l-.94 2.06-2.06.94zm10 10l.94 2.06.94-2.06 2.06-.94-2.06-.94-.94-2.06-.94 2.06-2.06.94z\"/><path d=\"M17.41 7.96l-1.37-1.37c-.4-.4-.92-.59-1.43-.59-.52 0-1.04.2-1.43.59L10.3 9.45l-7.72 7.72c-.78.78-.78 2.05 0 2.83L4 21.41c.39.39.9.59 1.41.59.51 0 1.02-.2 1.41-.59l7.78-7.78 2.81-2.81c.8-.78.8-2.07 0-2.86zM5.41 20L4 18.59l7.72-7.72 1.47 1.35L5.41 20z\"/>\n",
              "  </svg>\n",
              "      </button>\n",
              "      \n",
              "  <style>\n",
              "    .colab-df-container {\n",
              "      display:flex;\n",
              "      flex-wrap:wrap;\n",
              "      gap: 12px;\n",
              "    }\n",
              "\n",
              "    .colab-df-convert {\n",
              "      background-color: #E8F0FE;\n",
              "      border: none;\n",
              "      border-radius: 50%;\n",
              "      cursor: pointer;\n",
              "      display: none;\n",
              "      fill: #1967D2;\n",
              "      height: 32px;\n",
              "      padding: 0 0 0 0;\n",
              "      width: 32px;\n",
              "    }\n",
              "\n",
              "    .colab-df-convert:hover {\n",
              "      background-color: #E2EBFA;\n",
              "      box-shadow: 0px 1px 2px rgba(60, 64, 67, 0.3), 0px 1px 3px 1px rgba(60, 64, 67, 0.15);\n",
              "      fill: #174EA6;\n",
              "    }\n",
              "\n",
              "    [theme=dark] .colab-df-convert {\n",
              "      background-color: #3B4455;\n",
              "      fill: #D2E3FC;\n",
              "    }\n",
              "\n",
              "    [theme=dark] .colab-df-convert:hover {\n",
              "      background-color: #434B5C;\n",
              "      box-shadow: 0px 1px 3px 1px rgba(0, 0, 0, 0.15);\n",
              "      filter: drop-shadow(0px 1px 2px rgba(0, 0, 0, 0.3));\n",
              "      fill: #FFFFFF;\n",
              "    }\n",
              "  </style>\n",
              "\n",
              "      <script>\n",
              "        const buttonEl =\n",
              "          document.querySelector('#df-cbe67e1b-be87-4c50-b5a5-563eaa0035af button.colab-df-convert');\n",
              "        buttonEl.style.display =\n",
              "          google.colab.kernel.accessAllowed ? 'block' : 'none';\n",
              "\n",
              "        async function convertToInteractive(key) {\n",
              "          const element = document.querySelector('#df-cbe67e1b-be87-4c50-b5a5-563eaa0035af');\n",
              "          const dataTable =\n",
              "            await google.colab.kernel.invokeFunction('convertToInteractive',\n",
              "                                                     [key], {});\n",
              "          if (!dataTable) return;\n",
              "\n",
              "          const docLinkHtml = 'Like what you see? Visit the ' +\n",
              "            '<a target=\"_blank\" href=https://colab.research.google.com/notebooks/data_table.ipynb>data table notebook</a>'\n",
              "            + ' to learn more about interactive tables.';\n",
              "          element.innerHTML = '';\n",
              "          dataTable['output_type'] = 'display_data';\n",
              "          await google.colab.output.renderOutput(dataTable, element);\n",
              "          const docLink = document.createElement('div');\n",
              "          docLink.innerHTML = docLinkHtml;\n",
              "          element.appendChild(docLink);\n",
              "        }\n",
              "      </script>\n",
              "    </div>\n",
              "  </div>\n",
              "  "
            ]
          },
          "metadata": {},
          "execution_count": 14
        }
      ],
      "source": [
        "df1_no_na.fillna(0)"
      ]
    },
    {
      "cell_type": "code",
      "execution_count": null,
      "metadata": {
        "id": "SmgnyIMThTrs",
        "colab": {
          "base_uri": "https://localhost:8080/"
        },
        "outputId": "0f06635b-20f4-40da-fffb-405eb791c7a6"
      },
      "outputs": [
        {
          "output_type": "execute_result",
          "data": {
            "text/plain": [
              "contactid        0\n",
              "emailid          0\n",
              "emailname        0\n",
              "senddate         0\n",
              "opendate         0\n",
              "clickdate    84072\n",
              "dtype: int64"
            ]
          },
          "metadata": {},
          "execution_count": 15
        }
      ],
      "source": [
        "nan_count = np.sum(df1_no_na.isnull(), axis = 0)\n",
        "nan_count"
      ]
    },
    {
      "cell_type": "code",
      "execution_count": null,
      "metadata": {
        "id": "rW6ruB2IhUnb",
        "colab": {
          "base_uri": "https://localhost:8080/",
          "height": 357
        },
        "outputId": "aef55ddd-df6d-4d90-bbe7-c493403a7e4c"
      },
      "outputs": [
        {
          "output_type": "execute_result",
          "data": {
            "text/plain": [
              "              contactid          campaignid           name  leadgen  advocacy  \\\n",
              "31   0031K0000385UdIQAU  7011K000001HSNYQA4  2021_YEMEN_FB        1         0   \n",
              "248  0031K0000385j8nQAA  7011K000001HSNYQA4  2021_YEMEN_FB        1         0   \n",
              "276  0031K0000385mZqQAI  7011K000001HSNYQA4  2021_YEMEN_FB        1         0   \n",
              "333  0031K0000385qrwQAA  7011K000001HSNYQA4  2021_YEMEN_FB        1         0   \n",
              "346  0031K0000385rAlQAI  7011K000001HSNYQA4  2021_YEMEN_FB        1         0   \n",
              "\n",
              "              accountid             createddate membership_type__c  \\\n",
              "31   0011K00002THOEWQA5  2022-01-01 21:15:36+00   Individual Donor   \n",
              "248  0011K00002THbyIQAT  2022-01-06 12:10:02+00   Individual Donor   \n",
              "276  0011K00002THf9rQAD  2022-01-06 22:02:59+00   Individual Donor   \n",
              "333  0011K00002THj2gQAD  2022-01-07 23:17:25+00   Individual Donor   \n",
              "346  0011K00002THjIWQA1  2022-01-08 02:50:32+00   Individual Donor   \n",
              "\n",
              "    first_gift_date__c  first_gift_amount__c mrc_date__c  mrc_amount__c  \\\n",
              "31          2022-02-26                  25.0  2022-02-26           25.0   \n",
              "248         2022-01-23                  20.0  2022-01-23           20.0   \n",
              "276         2022-01-06                  30.0  2022-03-06           30.0   \n",
              "333         2022-05-10                   7.0  2022-05-10            7.0   \n",
              "346         2022-02-27                  60.0  2022-08-31           30.9   \n",
              "\n",
              "     current_calendar_year_total_amount__c  \\\n",
              "31                                    25.0   \n",
              "248                                   20.0   \n",
              "276                                   90.0   \n",
              "333                                    7.0   \n",
              "346                                  245.4   \n",
              "\n",
              "     current_calendar_year_total_transactions__c  \\\n",
              "31                                           1.0   \n",
              "248                                          1.0   \n",
              "276                                          3.0   \n",
              "333                                          1.0   \n",
              "346                                          7.0   \n",
              "\n",
              "     previous_calendar_year_total_amount__c  \\\n",
              "31                                      0.0   \n",
              "248                                     0.0   \n",
              "276                                     0.0   \n",
              "333                                     0.0   \n",
              "346                                     0.0   \n",
              "\n",
              "     previous_calendar_year_total_transaction__c  total_amount__c  \\\n",
              "31                                           0.0             25.0   \n",
              "248                                          0.0             20.0   \n",
              "276                                          0.0             90.0   \n",
              "333                                          0.0              7.0   \n",
              "346                                          0.0            245.4   \n",
              "\n",
              "     total_transactions__c  email  phone  \n",
              "31                     1.0      1      1  \n",
              "248                    1.0      1      1  \n",
              "276                    3.0      1      1  \n",
              "333                    1.0      1      1  \n",
              "346                    7.0      1      1  "
            ],
            "text/html": [
              "\n",
              "  <div id=\"df-4d70d11f-ea22-4c39-ba8b-6175fbc0a86f\">\n",
              "    <div class=\"colab-df-container\">\n",
              "      <div>\n",
              "<style scoped>\n",
              "    .dataframe tbody tr th:only-of-type {\n",
              "        vertical-align: middle;\n",
              "    }\n",
              "\n",
              "    .dataframe tbody tr th {\n",
              "        vertical-align: top;\n",
              "    }\n",
              "\n",
              "    .dataframe thead th {\n",
              "        text-align: right;\n",
              "    }\n",
              "</style>\n",
              "<table border=\"1\" class=\"dataframe\">\n",
              "  <thead>\n",
              "    <tr style=\"text-align: right;\">\n",
              "      <th></th>\n",
              "      <th>contactid</th>\n",
              "      <th>campaignid</th>\n",
              "      <th>name</th>\n",
              "      <th>leadgen</th>\n",
              "      <th>advocacy</th>\n",
              "      <th>accountid</th>\n",
              "      <th>createddate</th>\n",
              "      <th>membership_type__c</th>\n",
              "      <th>first_gift_date__c</th>\n",
              "      <th>first_gift_amount__c</th>\n",
              "      <th>mrc_date__c</th>\n",
              "      <th>mrc_amount__c</th>\n",
              "      <th>current_calendar_year_total_amount__c</th>\n",
              "      <th>current_calendar_year_total_transactions__c</th>\n",
              "      <th>previous_calendar_year_total_amount__c</th>\n",
              "      <th>previous_calendar_year_total_transaction__c</th>\n",
              "      <th>total_amount__c</th>\n",
              "      <th>total_transactions__c</th>\n",
              "      <th>email</th>\n",
              "      <th>phone</th>\n",
              "    </tr>\n",
              "  </thead>\n",
              "  <tbody>\n",
              "    <tr>\n",
              "      <th>31</th>\n",
              "      <td>0031K0000385UdIQAU</td>\n",
              "      <td>7011K000001HSNYQA4</td>\n",
              "      <td>2021_YEMEN_FB</td>\n",
              "      <td>1</td>\n",
              "      <td>0</td>\n",
              "      <td>0011K00002THOEWQA5</td>\n",
              "      <td>2022-01-01 21:15:36+00</td>\n",
              "      <td>Individual Donor</td>\n",
              "      <td>2022-02-26</td>\n",
              "      <td>25.0</td>\n",
              "      <td>2022-02-26</td>\n",
              "      <td>25.0</td>\n",
              "      <td>25.0</td>\n",
              "      <td>1.0</td>\n",
              "      <td>0.0</td>\n",
              "      <td>0.0</td>\n",
              "      <td>25.0</td>\n",
              "      <td>1.0</td>\n",
              "      <td>1</td>\n",
              "      <td>1</td>\n",
              "    </tr>\n",
              "    <tr>\n",
              "      <th>248</th>\n",
              "      <td>0031K0000385j8nQAA</td>\n",
              "      <td>7011K000001HSNYQA4</td>\n",
              "      <td>2021_YEMEN_FB</td>\n",
              "      <td>1</td>\n",
              "      <td>0</td>\n",
              "      <td>0011K00002THbyIQAT</td>\n",
              "      <td>2022-01-06 12:10:02+00</td>\n",
              "      <td>Individual Donor</td>\n",
              "      <td>2022-01-23</td>\n",
              "      <td>20.0</td>\n",
              "      <td>2022-01-23</td>\n",
              "      <td>20.0</td>\n",
              "      <td>20.0</td>\n",
              "      <td>1.0</td>\n",
              "      <td>0.0</td>\n",
              "      <td>0.0</td>\n",
              "      <td>20.0</td>\n",
              "      <td>1.0</td>\n",
              "      <td>1</td>\n",
              "      <td>1</td>\n",
              "    </tr>\n",
              "    <tr>\n",
              "      <th>276</th>\n",
              "      <td>0031K0000385mZqQAI</td>\n",
              "      <td>7011K000001HSNYQA4</td>\n",
              "      <td>2021_YEMEN_FB</td>\n",
              "      <td>1</td>\n",
              "      <td>0</td>\n",
              "      <td>0011K00002THf9rQAD</td>\n",
              "      <td>2022-01-06 22:02:59+00</td>\n",
              "      <td>Individual Donor</td>\n",
              "      <td>2022-01-06</td>\n",
              "      <td>30.0</td>\n",
              "      <td>2022-03-06</td>\n",
              "      <td>30.0</td>\n",
              "      <td>90.0</td>\n",
              "      <td>3.0</td>\n",
              "      <td>0.0</td>\n",
              "      <td>0.0</td>\n",
              "      <td>90.0</td>\n",
              "      <td>3.0</td>\n",
              "      <td>1</td>\n",
              "      <td>1</td>\n",
              "    </tr>\n",
              "    <tr>\n",
              "      <th>333</th>\n",
              "      <td>0031K0000385qrwQAA</td>\n",
              "      <td>7011K000001HSNYQA4</td>\n",
              "      <td>2021_YEMEN_FB</td>\n",
              "      <td>1</td>\n",
              "      <td>0</td>\n",
              "      <td>0011K00002THj2gQAD</td>\n",
              "      <td>2022-01-07 23:17:25+00</td>\n",
              "      <td>Individual Donor</td>\n",
              "      <td>2022-05-10</td>\n",
              "      <td>7.0</td>\n",
              "      <td>2022-05-10</td>\n",
              "      <td>7.0</td>\n",
              "      <td>7.0</td>\n",
              "      <td>1.0</td>\n",
              "      <td>0.0</td>\n",
              "      <td>0.0</td>\n",
              "      <td>7.0</td>\n",
              "      <td>1.0</td>\n",
              "      <td>1</td>\n",
              "      <td>1</td>\n",
              "    </tr>\n",
              "    <tr>\n",
              "      <th>346</th>\n",
              "      <td>0031K0000385rAlQAI</td>\n",
              "      <td>7011K000001HSNYQA4</td>\n",
              "      <td>2021_YEMEN_FB</td>\n",
              "      <td>1</td>\n",
              "      <td>0</td>\n",
              "      <td>0011K00002THjIWQA1</td>\n",
              "      <td>2022-01-08 02:50:32+00</td>\n",
              "      <td>Individual Donor</td>\n",
              "      <td>2022-02-27</td>\n",
              "      <td>60.0</td>\n",
              "      <td>2022-08-31</td>\n",
              "      <td>30.9</td>\n",
              "      <td>245.4</td>\n",
              "      <td>7.0</td>\n",
              "      <td>0.0</td>\n",
              "      <td>0.0</td>\n",
              "      <td>245.4</td>\n",
              "      <td>7.0</td>\n",
              "      <td>1</td>\n",
              "      <td>1</td>\n",
              "    </tr>\n",
              "  </tbody>\n",
              "</table>\n",
              "</div>\n",
              "      <button class=\"colab-df-convert\" onclick=\"convertToInteractive('df-4d70d11f-ea22-4c39-ba8b-6175fbc0a86f')\"\n",
              "              title=\"Convert this dataframe to an interactive table.\"\n",
              "              style=\"display:none;\">\n",
              "        \n",
              "  <svg xmlns=\"http://www.w3.org/2000/svg\" height=\"24px\"viewBox=\"0 0 24 24\"\n",
              "       width=\"24px\">\n",
              "    <path d=\"M0 0h24v24H0V0z\" fill=\"none\"/>\n",
              "    <path d=\"M18.56 5.44l.94 2.06.94-2.06 2.06-.94-2.06-.94-.94-2.06-.94 2.06-2.06.94zm-11 1L8.5 8.5l.94-2.06 2.06-.94-2.06-.94L8.5 2.5l-.94 2.06-2.06.94zm10 10l.94 2.06.94-2.06 2.06-.94-2.06-.94-.94-2.06-.94 2.06-2.06.94z\"/><path d=\"M17.41 7.96l-1.37-1.37c-.4-.4-.92-.59-1.43-.59-.52 0-1.04.2-1.43.59L10.3 9.45l-7.72 7.72c-.78.78-.78 2.05 0 2.83L4 21.41c.39.39.9.59 1.41.59.51 0 1.02-.2 1.41-.59l7.78-7.78 2.81-2.81c.8-.78.8-2.07 0-2.86zM5.41 20L4 18.59l7.72-7.72 1.47 1.35L5.41 20z\"/>\n",
              "  </svg>\n",
              "      </button>\n",
              "      \n",
              "  <style>\n",
              "    .colab-df-container {\n",
              "      display:flex;\n",
              "      flex-wrap:wrap;\n",
              "      gap: 12px;\n",
              "    }\n",
              "\n",
              "    .colab-df-convert {\n",
              "      background-color: #E8F0FE;\n",
              "      border: none;\n",
              "      border-radius: 50%;\n",
              "      cursor: pointer;\n",
              "      display: none;\n",
              "      fill: #1967D2;\n",
              "      height: 32px;\n",
              "      padding: 0 0 0 0;\n",
              "      width: 32px;\n",
              "    }\n",
              "\n",
              "    .colab-df-convert:hover {\n",
              "      background-color: #E2EBFA;\n",
              "      box-shadow: 0px 1px 2px rgba(60, 64, 67, 0.3), 0px 1px 3px 1px rgba(60, 64, 67, 0.15);\n",
              "      fill: #174EA6;\n",
              "    }\n",
              "\n",
              "    [theme=dark] .colab-df-convert {\n",
              "      background-color: #3B4455;\n",
              "      fill: #D2E3FC;\n",
              "    }\n",
              "\n",
              "    [theme=dark] .colab-df-convert:hover {\n",
              "      background-color: #434B5C;\n",
              "      box-shadow: 0px 1px 3px 1px rgba(0, 0, 0, 0.15);\n",
              "      filter: drop-shadow(0px 1px 2px rgba(0, 0, 0, 0.3));\n",
              "      fill: #FFFFFF;\n",
              "    }\n",
              "  </style>\n",
              "\n",
              "      <script>\n",
              "        const buttonEl =\n",
              "          document.querySelector('#df-4d70d11f-ea22-4c39-ba8b-6175fbc0a86f button.colab-df-convert');\n",
              "        buttonEl.style.display =\n",
              "          google.colab.kernel.accessAllowed ? 'block' : 'none';\n",
              "\n",
              "        async function convertToInteractive(key) {\n",
              "          const element = document.querySelector('#df-4d70d11f-ea22-4c39-ba8b-6175fbc0a86f');\n",
              "          const dataTable =\n",
              "            await google.colab.kernel.invokeFunction('convertToInteractive',\n",
              "                                                     [key], {});\n",
              "          if (!dataTable) return;\n",
              "\n",
              "          const docLinkHtml = 'Like what you see? Visit the ' +\n",
              "            '<a target=\"_blank\" href=https://colab.research.google.com/notebooks/data_table.ipynb>data table notebook</a>'\n",
              "            + ' to learn more about interactive tables.';\n",
              "          element.innerHTML = '';\n",
              "          dataTable['output_type'] = 'display_data';\n",
              "          await google.colab.output.renderOutput(dataTable, element);\n",
              "          const docLink = document.createElement('div');\n",
              "          docLink.innerHTML = docLinkHtml;\n",
              "          element.appendChild(docLink);\n",
              "        }\n",
              "      </script>\n",
              "    </div>\n",
              "  </div>\n",
              "  "
            ]
          },
          "metadata": {},
          "execution_count": 16
        }
      ],
      "source": [
        "df2_no_na = df2[df2['first_gift_date__c'].notna()]\n",
        "df2_no_na.head()"
      ]
    },
    {
      "cell_type": "code",
      "execution_count": null,
      "metadata": {
        "id": "wiIbnCG1iG5l",
        "colab": {
          "base_uri": "https://localhost:8080/"
        },
        "outputId": "95f957d3-71bd-4d8f-a2e1-41765cff6e39"
      },
      "outputs": [
        {
          "output_type": "execute_result",
          "data": {
            "text/plain": [
              "contactid                                      0\n",
              "campaignid                                     0\n",
              "name                                           0\n",
              "leadgen                                        0\n",
              "advocacy                                       0\n",
              "accountid                                      0\n",
              "createddate                                    0\n",
              "membership_type__c                             0\n",
              "first_gift_date__c                             0\n",
              "first_gift_amount__c                           0\n",
              "mrc_date__c                                    0\n",
              "mrc_amount__c                                  0\n",
              "current_calendar_year_total_amount__c          0\n",
              "current_calendar_year_total_transactions__c    0\n",
              "previous_calendar_year_total_amount__c         0\n",
              "previous_calendar_year_total_transaction__c    0\n",
              "total_amount__c                                0\n",
              "total_transactions__c                          0\n",
              "email                                          0\n",
              "phone                                          0\n",
              "dtype: int64"
            ]
          },
          "metadata": {},
          "execution_count": 17
        }
      ],
      "source": [
        "nan_count = np.sum(df2_no_na.isnull(), axis = 0)\n",
        "nan_count"
      ]
    },
    {
      "cell_type": "code",
      "execution_count": null,
      "metadata": {
        "id": "4gfTNfrukCTI",
        "colab": {
          "base_uri": "https://localhost:8080/"
        },
        "outputId": "fa2cb7cc-ca80-412d-b71d-fe88810a71d2"
      },
      "outputs": [
        {
          "output_type": "execute_result",
          "data": {
            "text/plain": [
              "(398061, 6)"
            ]
          },
          "metadata": {},
          "execution_count": 18
        }
      ],
      "source": [
        "df.shape"
      ]
    },
    {
      "cell_type": "code",
      "execution_count": null,
      "metadata": {
        "id": "8jceMKhTjNpa",
        "colab": {
          "base_uri": "https://localhost:8080/"
        },
        "outputId": "ab5a6f4c-91df-4644-c060-5a598ba1d96e"
      },
      "outputs": [
        {
          "output_type": "execute_result",
          "data": {
            "text/plain": [
              "(89174, 6)"
            ]
          },
          "metadata": {},
          "execution_count": 19
        }
      ],
      "source": [
        "df1_no_na.shape"
      ]
    },
    {
      "cell_type": "code",
      "execution_count": null,
      "metadata": {
        "id": "HOcteH3akEp_",
        "colab": {
          "base_uri": "https://localhost:8080/"
        },
        "outputId": "314fc626-5ea1-41dd-cdd9-820b291f7802"
      },
      "outputs": [
        {
          "output_type": "execute_result",
          "data": {
            "text/plain": [
              "(24713, 20)"
            ]
          },
          "metadata": {},
          "execution_count": 20
        }
      ],
      "source": [
        "df2.shape"
      ]
    },
    {
      "cell_type": "code",
      "execution_count": null,
      "metadata": {
        "id": "2mbKKMMYjmY_",
        "colab": {
          "base_uri": "https://localhost:8080/"
        },
        "outputId": "8221fdca-856d-4708-80ea-bc647ce12b0a"
      },
      "outputs": [
        {
          "output_type": "execute_result",
          "data": {
            "text/plain": [
              "(202, 20)"
            ]
          },
          "metadata": {},
          "execution_count": 21
        }
      ],
      "source": [
        "df2_no_na.shape"
      ]
    },
    {
      "cell_type": "code",
      "execution_count": null,
      "metadata": {
        "id": "iiemPIGUkARe"
      },
      "outputs": [],
      "source": [
        "#df1_no_na['time_diff'] = df1_no_na['senddate'] - df1_no_na['opendate']"
      ]
    },
    {
      "cell_type": "code",
      "execution_count": null,
      "metadata": {
        "id": "cFOl1d2bhb65"
      },
      "outputs": [],
      "source": [
        "#%matplotlib inline\n",
        "#x= df1_no_na['senddate']\n",
        "#y= df1_no_na['opendate']\n",
        "#plt.plot(x,y)"
      ]
    },
    {
      "cell_type": "code",
      "execution_count": null,
      "metadata": {
        "id": "hkltNiP9-aQM",
        "colab": {
          "base_uri": "https://localhost:8080/"
        },
        "outputId": "8f6161f2-3be7-4a18-de1a-2ec22c5f97eb"
      },
      "outputs": [
        {
          "output_type": "stream",
          "name": "stderr",
          "text": [
            "<ipython-input-24-a10c25f042f9>:1: SettingWithCopyWarning: \n",
            "A value is trying to be set on a copy of a slice from a DataFrame.\n",
            "Try using .loc[row_indexer,col_indexer] = value instead\n",
            "\n",
            "See the caveats in the documentation: https://pandas.pydata.org/pandas-docs/stable/user_guide/indexing.html#returning-a-view-versus-a-copy\n",
            "  df1_no_na['senddate'] = pd.to_datetime(df1_no_na['senddate'], format='%Y-%m-%d %H:%M:%S')\n"
          ]
        },
        {
          "output_type": "execute_result",
          "data": {
            "text/plain": [
              "9        2022-01-04 09:07:44.720\n",
              "21       2022-01-05 11:02:52.350\n",
              "67       2022-01-11 09:07:44.643\n",
              "72       2022-01-12 09:06:13.660\n",
              "78       2022-01-12 09:06:43.100\n",
              "                   ...          \n",
              "398037   2022-07-26 08:10:09.780\n",
              "398040   2022-07-26 08:10:09.780\n",
              "398046   2022-07-26 08:10:09.780\n",
              "398051   2022-07-26 08:10:09.780\n",
              "398056   2022-07-26 08:10:09.780\n",
              "Name: senddate, Length: 89174, dtype: datetime64[ns]"
            ]
          },
          "metadata": {},
          "execution_count": 24
        }
      ],
      "source": [
        "df1_no_na['senddate'] = pd.to_datetime(df1_no_na['senddate'], format='%Y-%m-%d %H:%M:%S')\n",
        "df1_no_na['senddate']"
      ]
    },
    {
      "cell_type": "code",
      "source": [
        "df1_no_na['opendate'] = pd.to_datetime(df1_no_na['opendate'], format='%Y-%m-%d %H:%M:%S')\n",
        "df1_no_na['opendate']"
      ],
      "metadata": {
        "colab": {
          "base_uri": "https://localhost:8080/"
        },
        "id": "2bKvhepUIibv",
        "outputId": "1e82659b-9358-4500-9c5b-40bb76e5b83c"
      },
      "execution_count": null,
      "outputs": [
        {
          "output_type": "stream",
          "name": "stderr",
          "text": [
            "<ipython-input-25-60d40e5f072d>:1: SettingWithCopyWarning: \n",
            "A value is trying to be set on a copy of a slice from a DataFrame.\n",
            "Try using .loc[row_indexer,col_indexer] = value instead\n",
            "\n",
            "See the caveats in the documentation: https://pandas.pydata.org/pandas-docs/stable/user_guide/indexing.html#returning-a-view-versus-a-copy\n",
            "  df1_no_na['opendate'] = pd.to_datetime(df1_no_na['opendate'], format='%Y-%m-%d %H:%M:%S')\n"
          ]
        },
        {
          "output_type": "execute_result",
          "data": {
            "text/plain": [
              "9        2022-01-04 10:27:52\n",
              "21       2022-01-05 11:09:14\n",
              "67       2022-01-11 09:29:24\n",
              "72       2022-01-12 16:09:58\n",
              "78       2022-01-12 13:33:35\n",
              "                 ...        \n",
              "398037   2022-07-26 09:54:02\n",
              "398040   2022-07-26 14:43:38\n",
              "398046   2022-07-26 19:04:50\n",
              "398051   2022-07-26 08:28:13\n",
              "398056   2022-07-26 09:38:23\n",
              "Name: opendate, Length: 89174, dtype: datetime64[ns]"
            ]
          },
          "metadata": {},
          "execution_count": 25
        }
      ]
    },
    {
      "cell_type": "code",
      "source": [
        "df1_no_na['clickdate'] = pd.to_datetime(df1_no_na['clickdate'], format='%Y-%m-%d %H:%M:%S')\n",
        "df1_no_na['clickdate']"
      ],
      "metadata": {
        "colab": {
          "base_uri": "https://localhost:8080/"
        },
        "id": "Xe2ZH-XyIuER",
        "outputId": "61f1f486-8d1f-45ae-fc51-3088580161e2"
      },
      "execution_count": null,
      "outputs": [
        {
          "output_type": "stream",
          "name": "stderr",
          "text": [
            "<ipython-input-26-fcee48413568>:1: SettingWithCopyWarning: \n",
            "A value is trying to be set on a copy of a slice from a DataFrame.\n",
            "Try using .loc[row_indexer,col_indexer] = value instead\n",
            "\n",
            "See the caveats in the documentation: https://pandas.pydata.org/pandas-docs/stable/user_guide/indexing.html#returning-a-view-versus-a-copy\n",
            "  df1_no_na['clickdate'] = pd.to_datetime(df1_no_na['clickdate'], format='%Y-%m-%d %H:%M:%S')\n"
          ]
        },
        {
          "output_type": "execute_result",
          "data": {
            "text/plain": [
              "9        NaT\n",
              "21       NaT\n",
              "67       NaT\n",
              "72       NaT\n",
              "78       NaT\n",
              "          ..\n",
              "398037   NaT\n",
              "398040   NaT\n",
              "398046   NaT\n",
              "398051   NaT\n",
              "398056   NaT\n",
              "Name: clickdate, Length: 89174, dtype: datetime64[ns]"
            ]
          },
          "metadata": {},
          "execution_count": 26
        }
      ]
    },
    {
      "cell_type": "code",
      "source": [
        "df2_no_na['createddate'] = pd.to_datetime(df2_no_na['createddate'], format='%Y-%m-%d %H:%M:%S')\n",
        "df2_no_na['createddate']"
      ],
      "metadata": {
        "colab": {
          "base_uri": "https://localhost:8080/"
        },
        "id": "xzzNurGaI6Wn",
        "outputId": "5deec284-d44e-477c-cd6a-45faebf85f9d"
      },
      "execution_count": null,
      "outputs": [
        {
          "output_type": "stream",
          "name": "stderr",
          "text": [
            "<ipython-input-27-ce3703ced616>:1: SettingWithCopyWarning: \n",
            "A value is trying to be set on a copy of a slice from a DataFrame.\n",
            "Try using .loc[row_indexer,col_indexer] = value instead\n",
            "\n",
            "See the caveats in the documentation: https://pandas.pydata.org/pandas-docs/stable/user_guide/indexing.html#returning-a-view-versus-a-copy\n",
            "  df2_no_na['createddate'] = pd.to_datetime(df2_no_na['createddate'], format='%Y-%m-%d %H:%M:%S')\n"
          ]
        },
        {
          "output_type": "execute_result",
          "data": {
            "text/plain": [
              "31      2022-01-01 21:15:36+00:00\n",
              "248     2022-01-06 12:10:02+00:00\n",
              "276     2022-01-06 22:02:59+00:00\n",
              "333     2022-01-07 23:17:25+00:00\n",
              "346     2022-01-08 02:50:32+00:00\n",
              "                   ...           \n",
              "24202   2022-04-04 18:49:49+00:00\n",
              "24217   2022-05-27 01:42:54+00:00\n",
              "24484   2022-06-16 17:21:30+00:00\n",
              "24485   2022-06-16 17:29:52+00:00\n",
              "24511   2022-06-16 19:53:39+00:00\n",
              "Name: createddate, Length: 202, dtype: datetime64[ns, UTC]"
            ]
          },
          "metadata": {},
          "execution_count": 27
        }
      ]
    },
    {
      "cell_type": "code",
      "source": [
        "df2_no_na['first_gift_date__c'] = pd.to_datetime(df2_no_na['first_gift_date__c'], format='%Y-%m-%d %H:%M:%S')\n",
        "df2_no_na['first_gift_date__c']"
      ],
      "metadata": {
        "colab": {
          "base_uri": "https://localhost:8080/"
        },
        "id": "s_HzlDgsJn_m",
        "outputId": "7b334763-8e65-4fb0-ac90-c23d64fb4e19"
      },
      "execution_count": null,
      "outputs": [
        {
          "output_type": "stream",
          "name": "stderr",
          "text": [
            "<ipython-input-28-4fdb6a26302d>:1: SettingWithCopyWarning: \n",
            "A value is trying to be set on a copy of a slice from a DataFrame.\n",
            "Try using .loc[row_indexer,col_indexer] = value instead\n",
            "\n",
            "See the caveats in the documentation: https://pandas.pydata.org/pandas-docs/stable/user_guide/indexing.html#returning-a-view-versus-a-copy\n",
            "  df2_no_na['first_gift_date__c'] = pd.to_datetime(df2_no_na['first_gift_date__c'], format='%Y-%m-%d %H:%M:%S')\n"
          ]
        },
        {
          "output_type": "execute_result",
          "data": {
            "text/plain": [
              "31      2022-02-26\n",
              "248     2022-01-23\n",
              "276     2022-01-06\n",
              "333     2022-05-10\n",
              "346     2022-02-27\n",
              "           ...    \n",
              "24202   2022-04-04\n",
              "24217   2022-05-27\n",
              "24484   2022-06-22\n",
              "24485   2022-06-24\n",
              "24511   2022-09-01\n",
              "Name: first_gift_date__c, Length: 202, dtype: datetime64[ns]"
            ]
          },
          "metadata": {},
          "execution_count": 28
        }
      ]
    },
    {
      "cell_type": "markdown",
      "source": [
        "Additional Datasets"
      ],
      "metadata": {
        "id": "y5lIetVZbEQG"
      }
    },
    {
      "cell_type": "code",
      "source": [
        "df_click = df_click.rename({'eventdate': 'eventdate_click', 'eventtype':'eventtype_click'}, axis=1)"
      ],
      "metadata": {
        "id": "7wvQgOnLitZ0"
      },
      "execution_count": null,
      "outputs": []
    },
    {
      "cell_type": "code",
      "source": [
        "df_click.shape"
      ],
      "metadata": {
        "id": "HgmQINjrwGpo",
        "colab": {
          "base_uri": "https://localhost:8080/"
        },
        "outputId": "29beedda-8cc0-43a8-f1e6-88df609104bf"
      },
      "execution_count": null,
      "outputs": [
        {
          "output_type": "execute_result",
          "data": {
            "text/plain": [
              "(6939, 6)"
            ]
          },
          "metadata": {},
          "execution_count": 30
        }
      ]
    },
    {
      "cell_type": "code",
      "source": [
        "df_click.head()"
      ],
      "metadata": {
        "id": "_dFOX8dXjYbU",
        "colab": {
          "base_uri": "https://localhost:8080/",
          "height": 206
        },
        "outputId": "61d86ae6-ecae-4134-a494-3605d5040977"
      },
      "execution_count": null,
      "outputs": [
        {
          "output_type": "execute_result",
          "data": {
            "text/plain": [
              "            contactid        eventdate_click eventtype_click  sendid    urlid  \\\n",
              "0  0031K00003B2PQmQAN  4/21/2022 12:08:19 AM           Click  765495   365099   \n",
              "1  0031K00003B2PQmQAN  4/21/2022 12:10:08 AM           Click  765495   337899   \n",
              "2  0031K00003AQPzjQAH  4/20/2022 10:41:07 AM           Click  765495   365099   \n",
              "3  0031K00003BNevBQAT  4/21/2022 11:46:52 AM           Click  890270  1094332   \n",
              "4  0031K00003BOdezQAD  4/21/2022 11:26:15 AM           Click  890270   158534   \n",
              "\n",
              "                                                 url  \n",
              "0  https://www.unrefugees.org/news/army-veteran-a...  \n",
              "1  https://www.unrefugees.org/news/not-even-monso...  \n",
              "2  https://www.unrefugees.org/news/army-veteran-a...  \n",
              "3  https://www.unrefugees.org/news/learn-how-you-...  \n",
              "4  http://www.facebook.com/UNREFUGEES?utm_medium=...  "
            ],
            "text/html": [
              "\n",
              "  <div id=\"df-db7c4ad3-c961-4d55-9b5c-0c58c623973c\">\n",
              "    <div class=\"colab-df-container\">\n",
              "      <div>\n",
              "<style scoped>\n",
              "    .dataframe tbody tr th:only-of-type {\n",
              "        vertical-align: middle;\n",
              "    }\n",
              "\n",
              "    .dataframe tbody tr th {\n",
              "        vertical-align: top;\n",
              "    }\n",
              "\n",
              "    .dataframe thead th {\n",
              "        text-align: right;\n",
              "    }\n",
              "</style>\n",
              "<table border=\"1\" class=\"dataframe\">\n",
              "  <thead>\n",
              "    <tr style=\"text-align: right;\">\n",
              "      <th></th>\n",
              "      <th>contactid</th>\n",
              "      <th>eventdate_click</th>\n",
              "      <th>eventtype_click</th>\n",
              "      <th>sendid</th>\n",
              "      <th>urlid</th>\n",
              "      <th>url</th>\n",
              "    </tr>\n",
              "  </thead>\n",
              "  <tbody>\n",
              "    <tr>\n",
              "      <th>0</th>\n",
              "      <td>0031K00003B2PQmQAN</td>\n",
              "      <td>4/21/2022 12:08:19 AM</td>\n",
              "      <td>Click</td>\n",
              "      <td>765495</td>\n",
              "      <td>365099</td>\n",
              "      <td>https://www.unrefugees.org/news/army-veteran-a...</td>\n",
              "    </tr>\n",
              "    <tr>\n",
              "      <th>1</th>\n",
              "      <td>0031K00003B2PQmQAN</td>\n",
              "      <td>4/21/2022 12:10:08 AM</td>\n",
              "      <td>Click</td>\n",
              "      <td>765495</td>\n",
              "      <td>337899</td>\n",
              "      <td>https://www.unrefugees.org/news/not-even-monso...</td>\n",
              "    </tr>\n",
              "    <tr>\n",
              "      <th>2</th>\n",
              "      <td>0031K00003AQPzjQAH</td>\n",
              "      <td>4/20/2022 10:41:07 AM</td>\n",
              "      <td>Click</td>\n",
              "      <td>765495</td>\n",
              "      <td>365099</td>\n",
              "      <td>https://www.unrefugees.org/news/army-veteran-a...</td>\n",
              "    </tr>\n",
              "    <tr>\n",
              "      <th>3</th>\n",
              "      <td>0031K00003BNevBQAT</td>\n",
              "      <td>4/21/2022 11:46:52 AM</td>\n",
              "      <td>Click</td>\n",
              "      <td>890270</td>\n",
              "      <td>1094332</td>\n",
              "      <td>https://www.unrefugees.org/news/learn-how-you-...</td>\n",
              "    </tr>\n",
              "    <tr>\n",
              "      <th>4</th>\n",
              "      <td>0031K00003BOdezQAD</td>\n",
              "      <td>4/21/2022 11:26:15 AM</td>\n",
              "      <td>Click</td>\n",
              "      <td>890270</td>\n",
              "      <td>158534</td>\n",
              "      <td>http://www.facebook.com/UNREFUGEES?utm_medium=...</td>\n",
              "    </tr>\n",
              "  </tbody>\n",
              "</table>\n",
              "</div>\n",
              "      <button class=\"colab-df-convert\" onclick=\"convertToInteractive('df-db7c4ad3-c961-4d55-9b5c-0c58c623973c')\"\n",
              "              title=\"Convert this dataframe to an interactive table.\"\n",
              "              style=\"display:none;\">\n",
              "        \n",
              "  <svg xmlns=\"http://www.w3.org/2000/svg\" height=\"24px\"viewBox=\"0 0 24 24\"\n",
              "       width=\"24px\">\n",
              "    <path d=\"M0 0h24v24H0V0z\" fill=\"none\"/>\n",
              "    <path d=\"M18.56 5.44l.94 2.06.94-2.06 2.06-.94-2.06-.94-.94-2.06-.94 2.06-2.06.94zm-11 1L8.5 8.5l.94-2.06 2.06-.94-2.06-.94L8.5 2.5l-.94 2.06-2.06.94zm10 10l.94 2.06.94-2.06 2.06-.94-2.06-.94-.94-2.06-.94 2.06-2.06.94z\"/><path d=\"M17.41 7.96l-1.37-1.37c-.4-.4-.92-.59-1.43-.59-.52 0-1.04.2-1.43.59L10.3 9.45l-7.72 7.72c-.78.78-.78 2.05 0 2.83L4 21.41c.39.39.9.59 1.41.59.51 0 1.02-.2 1.41-.59l7.78-7.78 2.81-2.81c.8-.78.8-2.07 0-2.86zM5.41 20L4 18.59l7.72-7.72 1.47 1.35L5.41 20z\"/>\n",
              "  </svg>\n",
              "      </button>\n",
              "      \n",
              "  <style>\n",
              "    .colab-df-container {\n",
              "      display:flex;\n",
              "      flex-wrap:wrap;\n",
              "      gap: 12px;\n",
              "    }\n",
              "\n",
              "    .colab-df-convert {\n",
              "      background-color: #E8F0FE;\n",
              "      border: none;\n",
              "      border-radius: 50%;\n",
              "      cursor: pointer;\n",
              "      display: none;\n",
              "      fill: #1967D2;\n",
              "      height: 32px;\n",
              "      padding: 0 0 0 0;\n",
              "      width: 32px;\n",
              "    }\n",
              "\n",
              "    .colab-df-convert:hover {\n",
              "      background-color: #E2EBFA;\n",
              "      box-shadow: 0px 1px 2px rgba(60, 64, 67, 0.3), 0px 1px 3px 1px rgba(60, 64, 67, 0.15);\n",
              "      fill: #174EA6;\n",
              "    }\n",
              "\n",
              "    [theme=dark] .colab-df-convert {\n",
              "      background-color: #3B4455;\n",
              "      fill: #D2E3FC;\n",
              "    }\n",
              "\n",
              "    [theme=dark] .colab-df-convert:hover {\n",
              "      background-color: #434B5C;\n",
              "      box-shadow: 0px 1px 3px 1px rgba(0, 0, 0, 0.15);\n",
              "      filter: drop-shadow(0px 1px 2px rgba(0, 0, 0, 0.3));\n",
              "      fill: #FFFFFF;\n",
              "    }\n",
              "  </style>\n",
              "\n",
              "      <script>\n",
              "        const buttonEl =\n",
              "          document.querySelector('#df-db7c4ad3-c961-4d55-9b5c-0c58c623973c button.colab-df-convert');\n",
              "        buttonEl.style.display =\n",
              "          google.colab.kernel.accessAllowed ? 'block' : 'none';\n",
              "\n",
              "        async function convertToInteractive(key) {\n",
              "          const element = document.querySelector('#df-db7c4ad3-c961-4d55-9b5c-0c58c623973c');\n",
              "          const dataTable =\n",
              "            await google.colab.kernel.invokeFunction('convertToInteractive',\n",
              "                                                     [key], {});\n",
              "          if (!dataTable) return;\n",
              "\n",
              "          const docLinkHtml = 'Like what you see? Visit the ' +\n",
              "            '<a target=\"_blank\" href=https://colab.research.google.com/notebooks/data_table.ipynb>data table notebook</a>'\n",
              "            + ' to learn more about interactive tables.';\n",
              "          element.innerHTML = '';\n",
              "          dataTable['output_type'] = 'display_data';\n",
              "          await google.colab.output.renderOutput(dataTable, element);\n",
              "          const docLink = document.createElement('div');\n",
              "          docLink.innerHTML = docLinkHtml;\n",
              "          element.appendChild(docLink);\n",
              "        }\n",
              "      </script>\n",
              "    </div>\n",
              "  </div>\n",
              "  "
            ]
          },
          "metadata": {},
          "execution_count": 31
        }
      ]
    },
    {
      "cell_type": "code",
      "execution_count": null,
      "metadata": {
        "id": "OBMlQwILNXHH",
        "colab": {
          "base_uri": "https://localhost:8080/"
        },
        "outputId": "1e9bc6c4-4fbc-4e5c-85cf-282b355c65ee"
      },
      "outputs": [
        {
          "output_type": "stream",
          "name": "stdout",
          "text": [
            "contactid          0\n",
            "eventdate_click    0\n",
            "eventtype_click    0\n",
            "sendid             0\n",
            "urlid              0\n",
            "url                0\n",
            "dtype: int64\n"
          ]
        }
      ],
      "source": [
        "nan_count3 = np.sum(df_click.isnull(), axis = 0)\n",
        "print(nan_count3)"
      ]
    },
    {
      "cell_type": "code",
      "source": [
        "print(df_click['eventtype_click'].unique())"
      ],
      "metadata": {
        "id": "kQvR-UOrLO3S",
        "colab": {
          "base_uri": "https://localhost:8080/"
        },
        "outputId": "d26fcac2-65d0-47bd-f0ea-f61a9d7facd4"
      },
      "execution_count": null,
      "outputs": [
        {
          "output_type": "stream",
          "name": "stdout",
          "text": [
            "['Click']\n"
          ]
        }
      ]
    },
    {
      "cell_type": "code",
      "source": [
        "df_click['eventtype_click'] = df_click['eventtype_click'].map({'Click' : 1, '' : 0})"
      ],
      "metadata": {
        "id": "USzzsocfKLYs"
      },
      "execution_count": null,
      "outputs": []
    },
    {
      "cell_type": "code",
      "source": [
        "df_click.head()"
      ],
      "metadata": {
        "id": "0xhd9BXuLa0T",
        "colab": {
          "base_uri": "https://localhost:8080/",
          "height": 206
        },
        "outputId": "49a988a4-fb7e-46f3-deeb-65f4ae6a6d84"
      },
      "execution_count": null,
      "outputs": [
        {
          "output_type": "execute_result",
          "data": {
            "text/plain": [
              "            contactid        eventdate_click  eventtype_click  sendid  \\\n",
              "0  0031K00003B2PQmQAN  4/21/2022 12:08:19 AM                1  765495   \n",
              "1  0031K00003B2PQmQAN  4/21/2022 12:10:08 AM                1  765495   \n",
              "2  0031K00003AQPzjQAH  4/20/2022 10:41:07 AM                1  765495   \n",
              "3  0031K00003BNevBQAT  4/21/2022 11:46:52 AM                1  890270   \n",
              "4  0031K00003BOdezQAD  4/21/2022 11:26:15 AM                1  890270   \n",
              "\n",
              "     urlid                                                url  \n",
              "0   365099  https://www.unrefugees.org/news/army-veteran-a...  \n",
              "1   337899  https://www.unrefugees.org/news/not-even-monso...  \n",
              "2   365099  https://www.unrefugees.org/news/army-veteran-a...  \n",
              "3  1094332  https://www.unrefugees.org/news/learn-how-you-...  \n",
              "4   158534  http://www.facebook.com/UNREFUGEES?utm_medium=...  "
            ],
            "text/html": [
              "\n",
              "  <div id=\"df-73139a76-2201-4dd0-a9a6-188bbdde5e28\">\n",
              "    <div class=\"colab-df-container\">\n",
              "      <div>\n",
              "<style scoped>\n",
              "    .dataframe tbody tr th:only-of-type {\n",
              "        vertical-align: middle;\n",
              "    }\n",
              "\n",
              "    .dataframe tbody tr th {\n",
              "        vertical-align: top;\n",
              "    }\n",
              "\n",
              "    .dataframe thead th {\n",
              "        text-align: right;\n",
              "    }\n",
              "</style>\n",
              "<table border=\"1\" class=\"dataframe\">\n",
              "  <thead>\n",
              "    <tr style=\"text-align: right;\">\n",
              "      <th></th>\n",
              "      <th>contactid</th>\n",
              "      <th>eventdate_click</th>\n",
              "      <th>eventtype_click</th>\n",
              "      <th>sendid</th>\n",
              "      <th>urlid</th>\n",
              "      <th>url</th>\n",
              "    </tr>\n",
              "  </thead>\n",
              "  <tbody>\n",
              "    <tr>\n",
              "      <th>0</th>\n",
              "      <td>0031K00003B2PQmQAN</td>\n",
              "      <td>4/21/2022 12:08:19 AM</td>\n",
              "      <td>1</td>\n",
              "      <td>765495</td>\n",
              "      <td>365099</td>\n",
              "      <td>https://www.unrefugees.org/news/army-veteran-a...</td>\n",
              "    </tr>\n",
              "    <tr>\n",
              "      <th>1</th>\n",
              "      <td>0031K00003B2PQmQAN</td>\n",
              "      <td>4/21/2022 12:10:08 AM</td>\n",
              "      <td>1</td>\n",
              "      <td>765495</td>\n",
              "      <td>337899</td>\n",
              "      <td>https://www.unrefugees.org/news/not-even-monso...</td>\n",
              "    </tr>\n",
              "    <tr>\n",
              "      <th>2</th>\n",
              "      <td>0031K00003AQPzjQAH</td>\n",
              "      <td>4/20/2022 10:41:07 AM</td>\n",
              "      <td>1</td>\n",
              "      <td>765495</td>\n",
              "      <td>365099</td>\n",
              "      <td>https://www.unrefugees.org/news/army-veteran-a...</td>\n",
              "    </tr>\n",
              "    <tr>\n",
              "      <th>3</th>\n",
              "      <td>0031K00003BNevBQAT</td>\n",
              "      <td>4/21/2022 11:46:52 AM</td>\n",
              "      <td>1</td>\n",
              "      <td>890270</td>\n",
              "      <td>1094332</td>\n",
              "      <td>https://www.unrefugees.org/news/learn-how-you-...</td>\n",
              "    </tr>\n",
              "    <tr>\n",
              "      <th>4</th>\n",
              "      <td>0031K00003BOdezQAD</td>\n",
              "      <td>4/21/2022 11:26:15 AM</td>\n",
              "      <td>1</td>\n",
              "      <td>890270</td>\n",
              "      <td>158534</td>\n",
              "      <td>http://www.facebook.com/UNREFUGEES?utm_medium=...</td>\n",
              "    </tr>\n",
              "  </tbody>\n",
              "</table>\n",
              "</div>\n",
              "      <button class=\"colab-df-convert\" onclick=\"convertToInteractive('df-73139a76-2201-4dd0-a9a6-188bbdde5e28')\"\n",
              "              title=\"Convert this dataframe to an interactive table.\"\n",
              "              style=\"display:none;\">\n",
              "        \n",
              "  <svg xmlns=\"http://www.w3.org/2000/svg\" height=\"24px\"viewBox=\"0 0 24 24\"\n",
              "       width=\"24px\">\n",
              "    <path d=\"M0 0h24v24H0V0z\" fill=\"none\"/>\n",
              "    <path d=\"M18.56 5.44l.94 2.06.94-2.06 2.06-.94-2.06-.94-.94-2.06-.94 2.06-2.06.94zm-11 1L8.5 8.5l.94-2.06 2.06-.94-2.06-.94L8.5 2.5l-.94 2.06-2.06.94zm10 10l.94 2.06.94-2.06 2.06-.94-2.06-.94-.94-2.06-.94 2.06-2.06.94z\"/><path d=\"M17.41 7.96l-1.37-1.37c-.4-.4-.92-.59-1.43-.59-.52 0-1.04.2-1.43.59L10.3 9.45l-7.72 7.72c-.78.78-.78 2.05 0 2.83L4 21.41c.39.39.9.59 1.41.59.51 0 1.02-.2 1.41-.59l7.78-7.78 2.81-2.81c.8-.78.8-2.07 0-2.86zM5.41 20L4 18.59l7.72-7.72 1.47 1.35L5.41 20z\"/>\n",
              "  </svg>\n",
              "      </button>\n",
              "      \n",
              "  <style>\n",
              "    .colab-df-container {\n",
              "      display:flex;\n",
              "      flex-wrap:wrap;\n",
              "      gap: 12px;\n",
              "    }\n",
              "\n",
              "    .colab-df-convert {\n",
              "      background-color: #E8F0FE;\n",
              "      border: none;\n",
              "      border-radius: 50%;\n",
              "      cursor: pointer;\n",
              "      display: none;\n",
              "      fill: #1967D2;\n",
              "      height: 32px;\n",
              "      padding: 0 0 0 0;\n",
              "      width: 32px;\n",
              "    }\n",
              "\n",
              "    .colab-df-convert:hover {\n",
              "      background-color: #E2EBFA;\n",
              "      box-shadow: 0px 1px 2px rgba(60, 64, 67, 0.3), 0px 1px 3px 1px rgba(60, 64, 67, 0.15);\n",
              "      fill: #174EA6;\n",
              "    }\n",
              "\n",
              "    [theme=dark] .colab-df-convert {\n",
              "      background-color: #3B4455;\n",
              "      fill: #D2E3FC;\n",
              "    }\n",
              "\n",
              "    [theme=dark] .colab-df-convert:hover {\n",
              "      background-color: #434B5C;\n",
              "      box-shadow: 0px 1px 3px 1px rgba(0, 0, 0, 0.15);\n",
              "      filter: drop-shadow(0px 1px 2px rgba(0, 0, 0, 0.3));\n",
              "      fill: #FFFFFF;\n",
              "    }\n",
              "  </style>\n",
              "\n",
              "      <script>\n",
              "        const buttonEl =\n",
              "          document.querySelector('#df-73139a76-2201-4dd0-a9a6-188bbdde5e28 button.colab-df-convert');\n",
              "        buttonEl.style.display =\n",
              "          google.colab.kernel.accessAllowed ? 'block' : 'none';\n",
              "\n",
              "        async function convertToInteractive(key) {\n",
              "          const element = document.querySelector('#df-73139a76-2201-4dd0-a9a6-188bbdde5e28');\n",
              "          const dataTable =\n",
              "            await google.colab.kernel.invokeFunction('convertToInteractive',\n",
              "                                                     [key], {});\n",
              "          if (!dataTable) return;\n",
              "\n",
              "          const docLinkHtml = 'Like what you see? Visit the ' +\n",
              "            '<a target=\"_blank\" href=https://colab.research.google.com/notebooks/data_table.ipynb>data table notebook</a>'\n",
              "            + ' to learn more about interactive tables.';\n",
              "          element.innerHTML = '';\n",
              "          dataTable['output_type'] = 'display_data';\n",
              "          await google.colab.output.renderOutput(dataTable, element);\n",
              "          const docLink = document.createElement('div');\n",
              "          docLink.innerHTML = docLinkHtml;\n",
              "          element.appendChild(docLink);\n",
              "        }\n",
              "      </script>\n",
              "    </div>\n",
              "  </div>\n",
              "  "
            ]
          },
          "metadata": {},
          "execution_count": 35
        }
      ]
    },
    {
      "cell_type": "code",
      "source": [
        "df_click['eventtype_click'].dtype # check column only has integers"
      ],
      "metadata": {
        "id": "K8X3jCOQL4xb",
        "colab": {
          "base_uri": "https://localhost:8080/"
        },
        "outputId": "eaaab702-dccc-468c-ff60-ba6b8bb524f4"
      },
      "execution_count": null,
      "outputs": [
        {
          "output_type": "execute_result",
          "data": {
            "text/plain": [
              "dtype('int64')"
            ]
          },
          "metadata": {},
          "execution_count": 36
        }
      ]
    },
    {
      "cell_type": "code",
      "source": [
        "df_open = df_open.rename({'eventdate': 'eventdate_open', 'eventtype':'eventtype_open'}, axis=1)"
      ],
      "metadata": {
        "id": "IYVgCtJKnj_x"
      },
      "execution_count": null,
      "outputs": []
    },
    {
      "cell_type": "code",
      "execution_count": null,
      "metadata": {
        "id": "N5coPMz37rGh",
        "colab": {
          "base_uri": "https://localhost:8080/",
          "height": 206
        },
        "outputId": "985c77a0-7b39-4876-98c4-03b13338a461"
      },
      "outputs": [
        {
          "output_type": "execute_result",
          "data": {
            "text/plain": [
              "            contactid eventdate_open eventtype_open  sendid\n",
              "0  0031K0000386BslQAE   4/19/22 7:37           Open  883709\n",
              "1  0031K0000386BslQAE   4/19/22 7:37           Open  877618\n",
              "2  0031K00003AMz7nQAD   4/19/22 7:41           Open  886508\n",
              "3  0031K00003AO0VcQAL   4/19/22 8:04           Open  889440\n",
              "4  0031K00003877mQQAQ   4/19/22 8:05           Open  889440"
            ],
            "text/html": [
              "\n",
              "  <div id=\"df-addaafa0-7a82-4859-8b17-6c4da7e47fd4\">\n",
              "    <div class=\"colab-df-container\">\n",
              "      <div>\n",
              "<style scoped>\n",
              "    .dataframe tbody tr th:only-of-type {\n",
              "        vertical-align: middle;\n",
              "    }\n",
              "\n",
              "    .dataframe tbody tr th {\n",
              "        vertical-align: top;\n",
              "    }\n",
              "\n",
              "    .dataframe thead th {\n",
              "        text-align: right;\n",
              "    }\n",
              "</style>\n",
              "<table border=\"1\" class=\"dataframe\">\n",
              "  <thead>\n",
              "    <tr style=\"text-align: right;\">\n",
              "      <th></th>\n",
              "      <th>contactid</th>\n",
              "      <th>eventdate_open</th>\n",
              "      <th>eventtype_open</th>\n",
              "      <th>sendid</th>\n",
              "    </tr>\n",
              "  </thead>\n",
              "  <tbody>\n",
              "    <tr>\n",
              "      <th>0</th>\n",
              "      <td>0031K0000386BslQAE</td>\n",
              "      <td>4/19/22 7:37</td>\n",
              "      <td>Open</td>\n",
              "      <td>883709</td>\n",
              "    </tr>\n",
              "    <tr>\n",
              "      <th>1</th>\n",
              "      <td>0031K0000386BslQAE</td>\n",
              "      <td>4/19/22 7:37</td>\n",
              "      <td>Open</td>\n",
              "      <td>877618</td>\n",
              "    </tr>\n",
              "    <tr>\n",
              "      <th>2</th>\n",
              "      <td>0031K00003AMz7nQAD</td>\n",
              "      <td>4/19/22 7:41</td>\n",
              "      <td>Open</td>\n",
              "      <td>886508</td>\n",
              "    </tr>\n",
              "    <tr>\n",
              "      <th>3</th>\n",
              "      <td>0031K00003AO0VcQAL</td>\n",
              "      <td>4/19/22 8:04</td>\n",
              "      <td>Open</td>\n",
              "      <td>889440</td>\n",
              "    </tr>\n",
              "    <tr>\n",
              "      <th>4</th>\n",
              "      <td>0031K00003877mQQAQ</td>\n",
              "      <td>4/19/22 8:05</td>\n",
              "      <td>Open</td>\n",
              "      <td>889440</td>\n",
              "    </tr>\n",
              "  </tbody>\n",
              "</table>\n",
              "</div>\n",
              "      <button class=\"colab-df-convert\" onclick=\"convertToInteractive('df-addaafa0-7a82-4859-8b17-6c4da7e47fd4')\"\n",
              "              title=\"Convert this dataframe to an interactive table.\"\n",
              "              style=\"display:none;\">\n",
              "        \n",
              "  <svg xmlns=\"http://www.w3.org/2000/svg\" height=\"24px\"viewBox=\"0 0 24 24\"\n",
              "       width=\"24px\">\n",
              "    <path d=\"M0 0h24v24H0V0z\" fill=\"none\"/>\n",
              "    <path d=\"M18.56 5.44l.94 2.06.94-2.06 2.06-.94-2.06-.94-.94-2.06-.94 2.06-2.06.94zm-11 1L8.5 8.5l.94-2.06 2.06-.94-2.06-.94L8.5 2.5l-.94 2.06-2.06.94zm10 10l.94 2.06.94-2.06 2.06-.94-2.06-.94-.94-2.06-.94 2.06-2.06.94z\"/><path d=\"M17.41 7.96l-1.37-1.37c-.4-.4-.92-.59-1.43-.59-.52 0-1.04.2-1.43.59L10.3 9.45l-7.72 7.72c-.78.78-.78 2.05 0 2.83L4 21.41c.39.39.9.59 1.41.59.51 0 1.02-.2 1.41-.59l7.78-7.78 2.81-2.81c.8-.78.8-2.07 0-2.86zM5.41 20L4 18.59l7.72-7.72 1.47 1.35L5.41 20z\"/>\n",
              "  </svg>\n",
              "      </button>\n",
              "      \n",
              "  <style>\n",
              "    .colab-df-container {\n",
              "      display:flex;\n",
              "      flex-wrap:wrap;\n",
              "      gap: 12px;\n",
              "    }\n",
              "\n",
              "    .colab-df-convert {\n",
              "      background-color: #E8F0FE;\n",
              "      border: none;\n",
              "      border-radius: 50%;\n",
              "      cursor: pointer;\n",
              "      display: none;\n",
              "      fill: #1967D2;\n",
              "      height: 32px;\n",
              "      padding: 0 0 0 0;\n",
              "      width: 32px;\n",
              "    }\n",
              "\n",
              "    .colab-df-convert:hover {\n",
              "      background-color: #E2EBFA;\n",
              "      box-shadow: 0px 1px 2px rgba(60, 64, 67, 0.3), 0px 1px 3px 1px rgba(60, 64, 67, 0.15);\n",
              "      fill: #174EA6;\n",
              "    }\n",
              "\n",
              "    [theme=dark] .colab-df-convert {\n",
              "      background-color: #3B4455;\n",
              "      fill: #D2E3FC;\n",
              "    }\n",
              "\n",
              "    [theme=dark] .colab-df-convert:hover {\n",
              "      background-color: #434B5C;\n",
              "      box-shadow: 0px 1px 3px 1px rgba(0, 0, 0, 0.15);\n",
              "      filter: drop-shadow(0px 1px 2px rgba(0, 0, 0, 0.3));\n",
              "      fill: #FFFFFF;\n",
              "    }\n",
              "  </style>\n",
              "\n",
              "      <script>\n",
              "        const buttonEl =\n",
              "          document.querySelector('#df-addaafa0-7a82-4859-8b17-6c4da7e47fd4 button.colab-df-convert');\n",
              "        buttonEl.style.display =\n",
              "          google.colab.kernel.accessAllowed ? 'block' : 'none';\n",
              "\n",
              "        async function convertToInteractive(key) {\n",
              "          const element = document.querySelector('#df-addaafa0-7a82-4859-8b17-6c4da7e47fd4');\n",
              "          const dataTable =\n",
              "            await google.colab.kernel.invokeFunction('convertToInteractive',\n",
              "                                                     [key], {});\n",
              "          if (!dataTable) return;\n",
              "\n",
              "          const docLinkHtml = 'Like what you see? Visit the ' +\n",
              "            '<a target=\"_blank\" href=https://colab.research.google.com/notebooks/data_table.ipynb>data table notebook</a>'\n",
              "            + ' to learn more about interactive tables.';\n",
              "          element.innerHTML = '';\n",
              "          dataTable['output_type'] = 'display_data';\n",
              "          await google.colab.output.renderOutput(dataTable, element);\n",
              "          const docLink = document.createElement('div');\n",
              "          docLink.innerHTML = docLinkHtml;\n",
              "          element.appendChild(docLink);\n",
              "        }\n",
              "      </script>\n",
              "    </div>\n",
              "  </div>\n",
              "  "
            ]
          },
          "metadata": {},
          "execution_count": 38
        }
      ],
      "source": [
        "df_open.head()"
      ]
    },
    {
      "cell_type": "code",
      "source": [
        "df_open.shape"
      ],
      "metadata": {
        "id": "iJPFqWk2ujAY",
        "colab": {
          "base_uri": "https://localhost:8080/"
        },
        "outputId": "2653ebd1-8c9d-4599-97f3-b4c7a921fb08"
      },
      "execution_count": null,
      "outputs": [
        {
          "output_type": "execute_result",
          "data": {
            "text/plain": [
              "(137870, 4)"
            ]
          },
          "metadata": {},
          "execution_count": 39
        }
      ]
    },
    {
      "cell_type": "code",
      "execution_count": null,
      "metadata": {
        "id": "SR7jPMuBNJVW",
        "colab": {
          "base_uri": "https://localhost:8080/"
        },
        "outputId": "e31aa698-3b7c-4a55-c593-ff2f5a54db18"
      },
      "outputs": [
        {
          "output_type": "stream",
          "name": "stdout",
          "text": [
            "contactid         0\n",
            "eventdate_open    0\n",
            "eventtype_open    0\n",
            "sendid            0\n",
            "dtype: int64\n"
          ]
        }
      ],
      "source": [
        "nan_count4 = np.sum(df_open.isnull(), axis = 0)\n",
        "print(nan_count4)"
      ]
    },
    {
      "cell_type": "code",
      "source": [
        "print(df_open['eventtype_open'].unique())"
      ],
      "metadata": {
        "id": "m4IRwMZLMIIM",
        "colab": {
          "base_uri": "https://localhost:8080/"
        },
        "outputId": "8c45a9fd-7bd4-4cc0-84da-ea2be1f01eac"
      },
      "execution_count": null,
      "outputs": [
        {
          "output_type": "stream",
          "name": "stdout",
          "text": [
            "['Open']\n"
          ]
        }
      ]
    },
    {
      "cell_type": "code",
      "source": [
        "df_open['eventtype_open'] = df_open['eventtype_open'].map({'Open' : 1, '' : 0})"
      ],
      "metadata": {
        "id": "zLtOYaNKQsN1"
      },
      "execution_count": null,
      "outputs": []
    },
    {
      "cell_type": "code",
      "source": [
        "df_open.head()"
      ],
      "metadata": {
        "id": "D87KA8bmQ33j",
        "colab": {
          "base_uri": "https://localhost:8080/",
          "height": 206
        },
        "outputId": "983062f1-46db-4836-f5d9-77c0ed5a258d"
      },
      "execution_count": null,
      "outputs": [
        {
          "output_type": "execute_result",
          "data": {
            "text/plain": [
              "            contactid eventdate_open  eventtype_open  sendid\n",
              "0  0031K0000386BslQAE   4/19/22 7:37               1  883709\n",
              "1  0031K0000386BslQAE   4/19/22 7:37               1  877618\n",
              "2  0031K00003AMz7nQAD   4/19/22 7:41               1  886508\n",
              "3  0031K00003AO0VcQAL   4/19/22 8:04               1  889440\n",
              "4  0031K00003877mQQAQ   4/19/22 8:05               1  889440"
            ],
            "text/html": [
              "\n",
              "  <div id=\"df-18477ba2-8a11-426c-8588-c072029d7765\">\n",
              "    <div class=\"colab-df-container\">\n",
              "      <div>\n",
              "<style scoped>\n",
              "    .dataframe tbody tr th:only-of-type {\n",
              "        vertical-align: middle;\n",
              "    }\n",
              "\n",
              "    .dataframe tbody tr th {\n",
              "        vertical-align: top;\n",
              "    }\n",
              "\n",
              "    .dataframe thead th {\n",
              "        text-align: right;\n",
              "    }\n",
              "</style>\n",
              "<table border=\"1\" class=\"dataframe\">\n",
              "  <thead>\n",
              "    <tr style=\"text-align: right;\">\n",
              "      <th></th>\n",
              "      <th>contactid</th>\n",
              "      <th>eventdate_open</th>\n",
              "      <th>eventtype_open</th>\n",
              "      <th>sendid</th>\n",
              "    </tr>\n",
              "  </thead>\n",
              "  <tbody>\n",
              "    <tr>\n",
              "      <th>0</th>\n",
              "      <td>0031K0000386BslQAE</td>\n",
              "      <td>4/19/22 7:37</td>\n",
              "      <td>1</td>\n",
              "      <td>883709</td>\n",
              "    </tr>\n",
              "    <tr>\n",
              "      <th>1</th>\n",
              "      <td>0031K0000386BslQAE</td>\n",
              "      <td>4/19/22 7:37</td>\n",
              "      <td>1</td>\n",
              "      <td>877618</td>\n",
              "    </tr>\n",
              "    <tr>\n",
              "      <th>2</th>\n",
              "      <td>0031K00003AMz7nQAD</td>\n",
              "      <td>4/19/22 7:41</td>\n",
              "      <td>1</td>\n",
              "      <td>886508</td>\n",
              "    </tr>\n",
              "    <tr>\n",
              "      <th>3</th>\n",
              "      <td>0031K00003AO0VcQAL</td>\n",
              "      <td>4/19/22 8:04</td>\n",
              "      <td>1</td>\n",
              "      <td>889440</td>\n",
              "    </tr>\n",
              "    <tr>\n",
              "      <th>4</th>\n",
              "      <td>0031K00003877mQQAQ</td>\n",
              "      <td>4/19/22 8:05</td>\n",
              "      <td>1</td>\n",
              "      <td>889440</td>\n",
              "    </tr>\n",
              "  </tbody>\n",
              "</table>\n",
              "</div>\n",
              "      <button class=\"colab-df-convert\" onclick=\"convertToInteractive('df-18477ba2-8a11-426c-8588-c072029d7765')\"\n",
              "              title=\"Convert this dataframe to an interactive table.\"\n",
              "              style=\"display:none;\">\n",
              "        \n",
              "  <svg xmlns=\"http://www.w3.org/2000/svg\" height=\"24px\"viewBox=\"0 0 24 24\"\n",
              "       width=\"24px\">\n",
              "    <path d=\"M0 0h24v24H0V0z\" fill=\"none\"/>\n",
              "    <path d=\"M18.56 5.44l.94 2.06.94-2.06 2.06-.94-2.06-.94-.94-2.06-.94 2.06-2.06.94zm-11 1L8.5 8.5l.94-2.06 2.06-.94-2.06-.94L8.5 2.5l-.94 2.06-2.06.94zm10 10l.94 2.06.94-2.06 2.06-.94-2.06-.94-.94-2.06-.94 2.06-2.06.94z\"/><path d=\"M17.41 7.96l-1.37-1.37c-.4-.4-.92-.59-1.43-.59-.52 0-1.04.2-1.43.59L10.3 9.45l-7.72 7.72c-.78.78-.78 2.05 0 2.83L4 21.41c.39.39.9.59 1.41.59.51 0 1.02-.2 1.41-.59l7.78-7.78 2.81-2.81c.8-.78.8-2.07 0-2.86zM5.41 20L4 18.59l7.72-7.72 1.47 1.35L5.41 20z\"/>\n",
              "  </svg>\n",
              "      </button>\n",
              "      \n",
              "  <style>\n",
              "    .colab-df-container {\n",
              "      display:flex;\n",
              "      flex-wrap:wrap;\n",
              "      gap: 12px;\n",
              "    }\n",
              "\n",
              "    .colab-df-convert {\n",
              "      background-color: #E8F0FE;\n",
              "      border: none;\n",
              "      border-radius: 50%;\n",
              "      cursor: pointer;\n",
              "      display: none;\n",
              "      fill: #1967D2;\n",
              "      height: 32px;\n",
              "      padding: 0 0 0 0;\n",
              "      width: 32px;\n",
              "    }\n",
              "\n",
              "    .colab-df-convert:hover {\n",
              "      background-color: #E2EBFA;\n",
              "      box-shadow: 0px 1px 2px rgba(60, 64, 67, 0.3), 0px 1px 3px 1px rgba(60, 64, 67, 0.15);\n",
              "      fill: #174EA6;\n",
              "    }\n",
              "\n",
              "    [theme=dark] .colab-df-convert {\n",
              "      background-color: #3B4455;\n",
              "      fill: #D2E3FC;\n",
              "    }\n",
              "\n",
              "    [theme=dark] .colab-df-convert:hover {\n",
              "      background-color: #434B5C;\n",
              "      box-shadow: 0px 1px 3px 1px rgba(0, 0, 0, 0.15);\n",
              "      filter: drop-shadow(0px 1px 2px rgba(0, 0, 0, 0.3));\n",
              "      fill: #FFFFFF;\n",
              "    }\n",
              "  </style>\n",
              "\n",
              "      <script>\n",
              "        const buttonEl =\n",
              "          document.querySelector('#df-18477ba2-8a11-426c-8588-c072029d7765 button.colab-df-convert');\n",
              "        buttonEl.style.display =\n",
              "          google.colab.kernel.accessAllowed ? 'block' : 'none';\n",
              "\n",
              "        async function convertToInteractive(key) {\n",
              "          const element = document.querySelector('#df-18477ba2-8a11-426c-8588-c072029d7765');\n",
              "          const dataTable =\n",
              "            await google.colab.kernel.invokeFunction('convertToInteractive',\n",
              "                                                     [key], {});\n",
              "          if (!dataTable) return;\n",
              "\n",
              "          const docLinkHtml = 'Like what you see? Visit the ' +\n",
              "            '<a target=\"_blank\" href=https://colab.research.google.com/notebooks/data_table.ipynb>data table notebook</a>'\n",
              "            + ' to learn more about interactive tables.';\n",
              "          element.innerHTML = '';\n",
              "          dataTable['output_type'] = 'display_data';\n",
              "          await google.colab.output.renderOutput(dataTable, element);\n",
              "          const docLink = document.createElement('div');\n",
              "          docLink.innerHTML = docLinkHtml;\n",
              "          element.appendChild(docLink);\n",
              "        }\n",
              "      </script>\n",
              "    </div>\n",
              "  </div>\n",
              "  "
            ]
          },
          "metadata": {},
          "execution_count": 43
        }
      ]
    },
    {
      "cell_type": "code",
      "source": [
        "df_open['eventtype_open'].dtype # check column only has integers"
      ],
      "metadata": {
        "id": "VeGNN2KSMMga",
        "colab": {
          "base_uri": "https://localhost:8080/"
        },
        "outputId": "11270d52-8c54-4495-aadd-0d8f4eca3f53"
      },
      "execution_count": null,
      "outputs": [
        {
          "output_type": "execute_result",
          "data": {
            "text/plain": [
              "dtype('int64')"
            ]
          },
          "metadata": {},
          "execution_count": 44
        }
      ]
    },
    {
      "cell_type": "code",
      "source": [
        "df_sent = df_sent.rename({'eventdate': 'eventdate_sent', 'eventtype': 'eventtype_sent'}, axis=1)"
      ],
      "metadata": {
        "id": "pAhG5-BIsypj"
      },
      "execution_count": null,
      "outputs": []
    },
    {
      "cell_type": "code",
      "execution_count": null,
      "metadata": {
        "id": "IUbsYCUd7rVS",
        "colab": {
          "base_uri": "https://localhost:8080/",
          "height": 206
        },
        "outputId": "a3f984a4-6149-4495-bd34-373384ff0526"
      },
      "outputs": [
        {
          "output_type": "execute_result",
          "data": {
            "text/plain": [
              "            contactid eventdate_sent eventtype_sent  sendid\n",
              "0  0031K00003B42UhQAJ   4/28/22 8:02           Sent  891711\n",
              "1  0031K00003B42UhQAJ   4/19/22 8:04           Sent  889440\n",
              "2  0031K00003B42fvQAB   4/28/22 8:02           Sent  891711\n",
              "3  0031K00003B438DQAR  5/17/22 15:01           Sent  906349\n",
              "4  0031K00003B44irQAB   5/8/22 16:01           Sent  902017"
            ],
            "text/html": [
              "\n",
              "  <div id=\"df-9992d46a-35f9-46d5-bc9c-d79e41c4ab99\">\n",
              "    <div class=\"colab-df-container\">\n",
              "      <div>\n",
              "<style scoped>\n",
              "    .dataframe tbody tr th:only-of-type {\n",
              "        vertical-align: middle;\n",
              "    }\n",
              "\n",
              "    .dataframe tbody tr th {\n",
              "        vertical-align: top;\n",
              "    }\n",
              "\n",
              "    .dataframe thead th {\n",
              "        text-align: right;\n",
              "    }\n",
              "</style>\n",
              "<table border=\"1\" class=\"dataframe\">\n",
              "  <thead>\n",
              "    <tr style=\"text-align: right;\">\n",
              "      <th></th>\n",
              "      <th>contactid</th>\n",
              "      <th>eventdate_sent</th>\n",
              "      <th>eventtype_sent</th>\n",
              "      <th>sendid</th>\n",
              "    </tr>\n",
              "  </thead>\n",
              "  <tbody>\n",
              "    <tr>\n",
              "      <th>0</th>\n",
              "      <td>0031K00003B42UhQAJ</td>\n",
              "      <td>4/28/22 8:02</td>\n",
              "      <td>Sent</td>\n",
              "      <td>891711</td>\n",
              "    </tr>\n",
              "    <tr>\n",
              "      <th>1</th>\n",
              "      <td>0031K00003B42UhQAJ</td>\n",
              "      <td>4/19/22 8:04</td>\n",
              "      <td>Sent</td>\n",
              "      <td>889440</td>\n",
              "    </tr>\n",
              "    <tr>\n",
              "      <th>2</th>\n",
              "      <td>0031K00003B42fvQAB</td>\n",
              "      <td>4/28/22 8:02</td>\n",
              "      <td>Sent</td>\n",
              "      <td>891711</td>\n",
              "    </tr>\n",
              "    <tr>\n",
              "      <th>3</th>\n",
              "      <td>0031K00003B438DQAR</td>\n",
              "      <td>5/17/22 15:01</td>\n",
              "      <td>Sent</td>\n",
              "      <td>906349</td>\n",
              "    </tr>\n",
              "    <tr>\n",
              "      <th>4</th>\n",
              "      <td>0031K00003B44irQAB</td>\n",
              "      <td>5/8/22 16:01</td>\n",
              "      <td>Sent</td>\n",
              "      <td>902017</td>\n",
              "    </tr>\n",
              "  </tbody>\n",
              "</table>\n",
              "</div>\n",
              "      <button class=\"colab-df-convert\" onclick=\"convertToInteractive('df-9992d46a-35f9-46d5-bc9c-d79e41c4ab99')\"\n",
              "              title=\"Convert this dataframe to an interactive table.\"\n",
              "              style=\"display:none;\">\n",
              "        \n",
              "  <svg xmlns=\"http://www.w3.org/2000/svg\" height=\"24px\"viewBox=\"0 0 24 24\"\n",
              "       width=\"24px\">\n",
              "    <path d=\"M0 0h24v24H0V0z\" fill=\"none\"/>\n",
              "    <path d=\"M18.56 5.44l.94 2.06.94-2.06 2.06-.94-2.06-.94-.94-2.06-.94 2.06-2.06.94zm-11 1L8.5 8.5l.94-2.06 2.06-.94-2.06-.94L8.5 2.5l-.94 2.06-2.06.94zm10 10l.94 2.06.94-2.06 2.06-.94-2.06-.94-.94-2.06-.94 2.06-2.06.94z\"/><path d=\"M17.41 7.96l-1.37-1.37c-.4-.4-.92-.59-1.43-.59-.52 0-1.04.2-1.43.59L10.3 9.45l-7.72 7.72c-.78.78-.78 2.05 0 2.83L4 21.41c.39.39.9.59 1.41.59.51 0 1.02-.2 1.41-.59l7.78-7.78 2.81-2.81c.8-.78.8-2.07 0-2.86zM5.41 20L4 18.59l7.72-7.72 1.47 1.35L5.41 20z\"/>\n",
              "  </svg>\n",
              "      </button>\n",
              "      \n",
              "  <style>\n",
              "    .colab-df-container {\n",
              "      display:flex;\n",
              "      flex-wrap:wrap;\n",
              "      gap: 12px;\n",
              "    }\n",
              "\n",
              "    .colab-df-convert {\n",
              "      background-color: #E8F0FE;\n",
              "      border: none;\n",
              "      border-radius: 50%;\n",
              "      cursor: pointer;\n",
              "      display: none;\n",
              "      fill: #1967D2;\n",
              "      height: 32px;\n",
              "      padding: 0 0 0 0;\n",
              "      width: 32px;\n",
              "    }\n",
              "\n",
              "    .colab-df-convert:hover {\n",
              "      background-color: #E2EBFA;\n",
              "      box-shadow: 0px 1px 2px rgba(60, 64, 67, 0.3), 0px 1px 3px 1px rgba(60, 64, 67, 0.15);\n",
              "      fill: #174EA6;\n",
              "    }\n",
              "\n",
              "    [theme=dark] .colab-df-convert {\n",
              "      background-color: #3B4455;\n",
              "      fill: #D2E3FC;\n",
              "    }\n",
              "\n",
              "    [theme=dark] .colab-df-convert:hover {\n",
              "      background-color: #434B5C;\n",
              "      box-shadow: 0px 1px 3px 1px rgba(0, 0, 0, 0.15);\n",
              "      filter: drop-shadow(0px 1px 2px rgba(0, 0, 0, 0.3));\n",
              "      fill: #FFFFFF;\n",
              "    }\n",
              "  </style>\n",
              "\n",
              "      <script>\n",
              "        const buttonEl =\n",
              "          document.querySelector('#df-9992d46a-35f9-46d5-bc9c-d79e41c4ab99 button.colab-df-convert');\n",
              "        buttonEl.style.display =\n",
              "          google.colab.kernel.accessAllowed ? 'block' : 'none';\n",
              "\n",
              "        async function convertToInteractive(key) {\n",
              "          const element = document.querySelector('#df-9992d46a-35f9-46d5-bc9c-d79e41c4ab99');\n",
              "          const dataTable =\n",
              "            await google.colab.kernel.invokeFunction('convertToInteractive',\n",
              "                                                     [key], {});\n",
              "          if (!dataTable) return;\n",
              "\n",
              "          const docLinkHtml = 'Like what you see? Visit the ' +\n",
              "            '<a target=\"_blank\" href=https://colab.research.google.com/notebooks/data_table.ipynb>data table notebook</a>'\n",
              "            + ' to learn more about interactive tables.';\n",
              "          element.innerHTML = '';\n",
              "          dataTable['output_type'] = 'display_data';\n",
              "          await google.colab.output.renderOutput(dataTable, element);\n",
              "          const docLink = document.createElement('div');\n",
              "          docLink.innerHTML = docLinkHtml;\n",
              "          element.appendChild(docLink);\n",
              "        }\n",
              "      </script>\n",
              "    </div>\n",
              "  </div>\n",
              "  "
            ]
          },
          "metadata": {},
          "execution_count": 46
        }
      ],
      "source": [
        "df_sent.head()"
      ]
    },
    {
      "cell_type": "code",
      "source": [
        "print(df_sent['eventtype_sent'].unique())"
      ],
      "metadata": {
        "id": "5ZUqrgdTRd4X",
        "colab": {
          "base_uri": "https://localhost:8080/"
        },
        "outputId": "63e6ea91-9c01-4ef6-b343-15624227e0e7"
      },
      "execution_count": null,
      "outputs": [
        {
          "output_type": "stream",
          "name": "stdout",
          "text": [
            "['Sent']\n"
          ]
        }
      ]
    },
    {
      "cell_type": "code",
      "source": [
        "df_sent['eventtype_sent'] = df_sent['eventtype_sent'].map({'Sent' : 1, '' : 0})"
      ],
      "metadata": {
        "id": "4KrenFCoRjP7"
      },
      "execution_count": null,
      "outputs": []
    },
    {
      "cell_type": "code",
      "source": [
        "df_open['eventtype_open'].dtype # check column only has integers"
      ],
      "metadata": {
        "id": "gQMh42j5RsIT",
        "colab": {
          "base_uri": "https://localhost:8080/"
        },
        "outputId": "30aba310-4d7e-4752-d89e-192f85656088"
      },
      "execution_count": null,
      "outputs": [
        {
          "output_type": "execute_result",
          "data": {
            "text/plain": [
              "dtype('int64')"
            ]
          },
          "metadata": {},
          "execution_count": 49
        }
      ]
    },
    {
      "cell_type": "code",
      "source": [
        "df_sent.head()"
      ],
      "metadata": {
        "id": "ZknKt6URRtc0",
        "colab": {
          "base_uri": "https://localhost:8080/",
          "height": 206
        },
        "outputId": "6ecb322e-27e1-41a9-9a0d-81d2a70f936d"
      },
      "execution_count": null,
      "outputs": [
        {
          "output_type": "execute_result",
          "data": {
            "text/plain": [
              "            contactid eventdate_sent  eventtype_sent  sendid\n",
              "0  0031K00003B42UhQAJ   4/28/22 8:02               1  891711\n",
              "1  0031K00003B42UhQAJ   4/19/22 8:04               1  889440\n",
              "2  0031K00003B42fvQAB   4/28/22 8:02               1  891711\n",
              "3  0031K00003B438DQAR  5/17/22 15:01               1  906349\n",
              "4  0031K00003B44irQAB   5/8/22 16:01               1  902017"
            ],
            "text/html": [
              "\n",
              "  <div id=\"df-c36e45d9-7f61-4bc3-9d65-9f488d75a200\">\n",
              "    <div class=\"colab-df-container\">\n",
              "      <div>\n",
              "<style scoped>\n",
              "    .dataframe tbody tr th:only-of-type {\n",
              "        vertical-align: middle;\n",
              "    }\n",
              "\n",
              "    .dataframe tbody tr th {\n",
              "        vertical-align: top;\n",
              "    }\n",
              "\n",
              "    .dataframe thead th {\n",
              "        text-align: right;\n",
              "    }\n",
              "</style>\n",
              "<table border=\"1\" class=\"dataframe\">\n",
              "  <thead>\n",
              "    <tr style=\"text-align: right;\">\n",
              "      <th></th>\n",
              "      <th>contactid</th>\n",
              "      <th>eventdate_sent</th>\n",
              "      <th>eventtype_sent</th>\n",
              "      <th>sendid</th>\n",
              "    </tr>\n",
              "  </thead>\n",
              "  <tbody>\n",
              "    <tr>\n",
              "      <th>0</th>\n",
              "      <td>0031K00003B42UhQAJ</td>\n",
              "      <td>4/28/22 8:02</td>\n",
              "      <td>1</td>\n",
              "      <td>891711</td>\n",
              "    </tr>\n",
              "    <tr>\n",
              "      <th>1</th>\n",
              "      <td>0031K00003B42UhQAJ</td>\n",
              "      <td>4/19/22 8:04</td>\n",
              "      <td>1</td>\n",
              "      <td>889440</td>\n",
              "    </tr>\n",
              "    <tr>\n",
              "      <th>2</th>\n",
              "      <td>0031K00003B42fvQAB</td>\n",
              "      <td>4/28/22 8:02</td>\n",
              "      <td>1</td>\n",
              "      <td>891711</td>\n",
              "    </tr>\n",
              "    <tr>\n",
              "      <th>3</th>\n",
              "      <td>0031K00003B438DQAR</td>\n",
              "      <td>5/17/22 15:01</td>\n",
              "      <td>1</td>\n",
              "      <td>906349</td>\n",
              "    </tr>\n",
              "    <tr>\n",
              "      <th>4</th>\n",
              "      <td>0031K00003B44irQAB</td>\n",
              "      <td>5/8/22 16:01</td>\n",
              "      <td>1</td>\n",
              "      <td>902017</td>\n",
              "    </tr>\n",
              "  </tbody>\n",
              "</table>\n",
              "</div>\n",
              "      <button class=\"colab-df-convert\" onclick=\"convertToInteractive('df-c36e45d9-7f61-4bc3-9d65-9f488d75a200')\"\n",
              "              title=\"Convert this dataframe to an interactive table.\"\n",
              "              style=\"display:none;\">\n",
              "        \n",
              "  <svg xmlns=\"http://www.w3.org/2000/svg\" height=\"24px\"viewBox=\"0 0 24 24\"\n",
              "       width=\"24px\">\n",
              "    <path d=\"M0 0h24v24H0V0z\" fill=\"none\"/>\n",
              "    <path d=\"M18.56 5.44l.94 2.06.94-2.06 2.06-.94-2.06-.94-.94-2.06-.94 2.06-2.06.94zm-11 1L8.5 8.5l.94-2.06 2.06-.94-2.06-.94L8.5 2.5l-.94 2.06-2.06.94zm10 10l.94 2.06.94-2.06 2.06-.94-2.06-.94-.94-2.06-.94 2.06-2.06.94z\"/><path d=\"M17.41 7.96l-1.37-1.37c-.4-.4-.92-.59-1.43-.59-.52 0-1.04.2-1.43.59L10.3 9.45l-7.72 7.72c-.78.78-.78 2.05 0 2.83L4 21.41c.39.39.9.59 1.41.59.51 0 1.02-.2 1.41-.59l7.78-7.78 2.81-2.81c.8-.78.8-2.07 0-2.86zM5.41 20L4 18.59l7.72-7.72 1.47 1.35L5.41 20z\"/>\n",
              "  </svg>\n",
              "      </button>\n",
              "      \n",
              "  <style>\n",
              "    .colab-df-container {\n",
              "      display:flex;\n",
              "      flex-wrap:wrap;\n",
              "      gap: 12px;\n",
              "    }\n",
              "\n",
              "    .colab-df-convert {\n",
              "      background-color: #E8F0FE;\n",
              "      border: none;\n",
              "      border-radius: 50%;\n",
              "      cursor: pointer;\n",
              "      display: none;\n",
              "      fill: #1967D2;\n",
              "      height: 32px;\n",
              "      padding: 0 0 0 0;\n",
              "      width: 32px;\n",
              "    }\n",
              "\n",
              "    .colab-df-convert:hover {\n",
              "      background-color: #E2EBFA;\n",
              "      box-shadow: 0px 1px 2px rgba(60, 64, 67, 0.3), 0px 1px 3px 1px rgba(60, 64, 67, 0.15);\n",
              "      fill: #174EA6;\n",
              "    }\n",
              "\n",
              "    [theme=dark] .colab-df-convert {\n",
              "      background-color: #3B4455;\n",
              "      fill: #D2E3FC;\n",
              "    }\n",
              "\n",
              "    [theme=dark] .colab-df-convert:hover {\n",
              "      background-color: #434B5C;\n",
              "      box-shadow: 0px 1px 3px 1px rgba(0, 0, 0, 0.15);\n",
              "      filter: drop-shadow(0px 1px 2px rgba(0, 0, 0, 0.3));\n",
              "      fill: #FFFFFF;\n",
              "    }\n",
              "  </style>\n",
              "\n",
              "      <script>\n",
              "        const buttonEl =\n",
              "          document.querySelector('#df-c36e45d9-7f61-4bc3-9d65-9f488d75a200 button.colab-df-convert');\n",
              "        buttonEl.style.display =\n",
              "          google.colab.kernel.accessAllowed ? 'block' : 'none';\n",
              "\n",
              "        async function convertToInteractive(key) {\n",
              "          const element = document.querySelector('#df-c36e45d9-7f61-4bc3-9d65-9f488d75a200');\n",
              "          const dataTable =\n",
              "            await google.colab.kernel.invokeFunction('convertToInteractive',\n",
              "                                                     [key], {});\n",
              "          if (!dataTable) return;\n",
              "\n",
              "          const docLinkHtml = 'Like what you see? Visit the ' +\n",
              "            '<a target=\"_blank\" href=https://colab.research.google.com/notebooks/data_table.ipynb>data table notebook</a>'\n",
              "            + ' to learn more about interactive tables.';\n",
              "          element.innerHTML = '';\n",
              "          dataTable['output_type'] = 'display_data';\n",
              "          await google.colab.output.renderOutput(dataTable, element);\n",
              "          const docLink = document.createElement('div');\n",
              "          docLink.innerHTML = docLinkHtml;\n",
              "          element.appendChild(docLink);\n",
              "        }\n",
              "      </script>\n",
              "    </div>\n",
              "  </div>\n",
              "  "
            ]
          },
          "metadata": {},
          "execution_count": 50
        }
      ]
    },
    {
      "cell_type": "code",
      "execution_count": null,
      "metadata": {
        "id": "1qKAnmcOMhVK",
        "colab": {
          "base_uri": "https://localhost:8080/"
        },
        "outputId": "abb06a5f-cb99-4514-9c9e-e566ae1d7f0e"
      },
      "outputs": [
        {
          "output_type": "stream",
          "name": "stdout",
          "text": [
            "contactid         0\n",
            "eventdate_sent    0\n",
            "eventtype_sent    0\n",
            "sendid            0\n",
            "dtype: int64\n"
          ]
        }
      ],
      "source": [
        "nan_count5 = np.sum(df_sent.isnull(), axis = 0)\n",
        "print(nan_count5)"
      ]
    },
    {
      "cell_type": "markdown",
      "source": [
        "Groupby for each dataframe (aggregation through contact ids)"
      ],
      "metadata": {
        "id": "X7pgi7PliBwW"
      }
    },
    {
      "cell_type": "code",
      "source": [
        "df_click_groupbys = df_click.groupby(['contactid']).sum()"
      ],
      "metadata": {
        "id": "gddD4n717ShD"
      },
      "execution_count": null,
      "outputs": []
    },
    {
      "cell_type": "code",
      "source": [
        "df_sent_groupbys = df_sent.groupby(['contactid']).sum()"
      ],
      "metadata": {
        "id": "xkrtXQsPUEvY"
      },
      "execution_count": null,
      "outputs": []
    },
    {
      "cell_type": "code",
      "source": [
        "df_open_groupbys = df_open.groupby(['contactid']).sum()"
      ],
      "metadata": {
        "id": "GU4IY_yYhJiE"
      },
      "execution_count": null,
      "outputs": []
    },
    {
      "cell_type": "markdown",
      "metadata": {
        "id": "w2nVi5CJoDaB"
      },
      "source": [
        "Merging of Main DataFrames with Left Joins"
      ]
    },
    {
      "cell_type": "code",
      "source": [
        "print(df_click.columns)"
      ],
      "metadata": {
        "id": "PgWPQLaqu8Zy",
        "colab": {
          "base_uri": "https://localhost:8080/"
        },
        "outputId": "4cb98cff-e656-41fe-bb10-2fb8a6a9322f"
      },
      "execution_count": null,
      "outputs": [
        {
          "output_type": "stream",
          "name": "stdout",
          "text": [
            "Index(['contactid', 'eventdate_click', 'eventtype_click', 'sendid', 'urlid',\n",
            "       'url'],\n",
            "      dtype='object')\n"
          ]
        }
      ]
    },
    {
      "cell_type": "code",
      "source": [
        "print(df_open.columns)"
      ],
      "metadata": {
        "id": "DpESUOlSvDhj",
        "colab": {
          "base_uri": "https://localhost:8080/"
        },
        "outputId": "039916f4-e9f8-44c6-8e54-72e51dfe4231"
      },
      "execution_count": null,
      "outputs": [
        {
          "output_type": "stream",
          "name": "stdout",
          "text": [
            "Index(['contactid', 'eventdate_open', 'eventtype_open', 'sendid'], dtype='object')\n"
          ]
        }
      ]
    },
    {
      "cell_type": "code",
      "execution_count": null,
      "metadata": {
        "id": "9yyxeQAtIGDv"
      },
      "outputs": [],
      "source": [
        "s1 = df_click_groupbys.merge( df_open_groupbys, how='inner', on=['contactid'])"
      ]
    },
    {
      "cell_type": "code",
      "execution_count": null,
      "metadata": {
        "id": "2Gxtr-THIT6y",
        "colab": {
          "base_uri": "https://localhost:8080/",
          "height": 455
        },
        "outputId": "6e87eea1-8753-4162-ef7c-69adc5456529"
      },
      "outputs": [
        {
          "output_type": "execute_result",
          "data": {
            "text/plain": [
              "                    eventtype_click  sendid_x    urlid  eventtype_open  \\\n",
              "contactid                                                                \n",
              "0031K0000385TiGQAU                1    865923  1517543              33   \n",
              "0031K0000385TrdQAE                1    860781  1511197               8   \n",
              "0031K0000385USpQAM                1    765498   158533               4   \n",
              "0031K0000385UeVQAU                1    765498   290643               8   \n",
              "0031K0000385UkxQAE                1    937762  1300915               2   \n",
              "...                             ...       ...      ...             ...   \n",
              "0031K00003Ck2xbQAB                1    937758  1652199              20   \n",
              "0031K00003Ck44JQAR                1    937758   158538               1   \n",
              "0031K00003Ck5qTQAR                3   2296494   871926              16   \n",
              "0031K00003Ck5xZQAR                1    960090   158538               1   \n",
              "0031K00003Ck6GTQAZ                1    955010   158538               5   \n",
              "\n",
              "                    sendid_y  \n",
              "contactid                     \n",
              "0031K0000385TiGQAU  29231621  \n",
              "0031K0000385TrdQAE   6468129  \n",
              "0031K0000385USpQAM   3438870  \n",
              "0031K0000385UeVQAU   6368546  \n",
              "0031K0000385UkxQAE   1793333  \n",
              "...                      ...  \n",
              "0031K00003Ck2xbQAB  18380241  \n",
              "0031K00003Ck44JQAR    937758  \n",
              "0031K00003Ck5qTQAR  13904304  \n",
              "0031K00003Ck5xZQAR    960090  \n",
              "0031K00003Ck6GTQAZ   4382148  \n",
              "\n",
              "[2493 rows x 5 columns]"
            ],
            "text/html": [
              "\n",
              "  <div id=\"df-5badbeaf-4726-4808-8483-e64f95cf260b\">\n",
              "    <div class=\"colab-df-container\">\n",
              "      <div>\n",
              "<style scoped>\n",
              "    .dataframe tbody tr th:only-of-type {\n",
              "        vertical-align: middle;\n",
              "    }\n",
              "\n",
              "    .dataframe tbody tr th {\n",
              "        vertical-align: top;\n",
              "    }\n",
              "\n",
              "    .dataframe thead th {\n",
              "        text-align: right;\n",
              "    }\n",
              "</style>\n",
              "<table border=\"1\" class=\"dataframe\">\n",
              "  <thead>\n",
              "    <tr style=\"text-align: right;\">\n",
              "      <th></th>\n",
              "      <th>eventtype_click</th>\n",
              "      <th>sendid_x</th>\n",
              "      <th>urlid</th>\n",
              "      <th>eventtype_open</th>\n",
              "      <th>sendid_y</th>\n",
              "    </tr>\n",
              "    <tr>\n",
              "      <th>contactid</th>\n",
              "      <th></th>\n",
              "      <th></th>\n",
              "      <th></th>\n",
              "      <th></th>\n",
              "      <th></th>\n",
              "    </tr>\n",
              "  </thead>\n",
              "  <tbody>\n",
              "    <tr>\n",
              "      <th>0031K0000385TiGQAU</th>\n",
              "      <td>1</td>\n",
              "      <td>865923</td>\n",
              "      <td>1517543</td>\n",
              "      <td>33</td>\n",
              "      <td>29231621</td>\n",
              "    </tr>\n",
              "    <tr>\n",
              "      <th>0031K0000385TrdQAE</th>\n",
              "      <td>1</td>\n",
              "      <td>860781</td>\n",
              "      <td>1511197</td>\n",
              "      <td>8</td>\n",
              "      <td>6468129</td>\n",
              "    </tr>\n",
              "    <tr>\n",
              "      <th>0031K0000385USpQAM</th>\n",
              "      <td>1</td>\n",
              "      <td>765498</td>\n",
              "      <td>158533</td>\n",
              "      <td>4</td>\n",
              "      <td>3438870</td>\n",
              "    </tr>\n",
              "    <tr>\n",
              "      <th>0031K0000385UeVQAU</th>\n",
              "      <td>1</td>\n",
              "      <td>765498</td>\n",
              "      <td>290643</td>\n",
              "      <td>8</td>\n",
              "      <td>6368546</td>\n",
              "    </tr>\n",
              "    <tr>\n",
              "      <th>0031K0000385UkxQAE</th>\n",
              "      <td>1</td>\n",
              "      <td>937762</td>\n",
              "      <td>1300915</td>\n",
              "      <td>2</td>\n",
              "      <td>1793333</td>\n",
              "    </tr>\n",
              "    <tr>\n",
              "      <th>...</th>\n",
              "      <td>...</td>\n",
              "      <td>...</td>\n",
              "      <td>...</td>\n",
              "      <td>...</td>\n",
              "      <td>...</td>\n",
              "    </tr>\n",
              "    <tr>\n",
              "      <th>0031K00003Ck2xbQAB</th>\n",
              "      <td>1</td>\n",
              "      <td>937758</td>\n",
              "      <td>1652199</td>\n",
              "      <td>20</td>\n",
              "      <td>18380241</td>\n",
              "    </tr>\n",
              "    <tr>\n",
              "      <th>0031K00003Ck44JQAR</th>\n",
              "      <td>1</td>\n",
              "      <td>937758</td>\n",
              "      <td>158538</td>\n",
              "      <td>1</td>\n",
              "      <td>937758</td>\n",
              "    </tr>\n",
              "    <tr>\n",
              "      <th>0031K00003Ck5qTQAR</th>\n",
              "      <td>3</td>\n",
              "      <td>2296494</td>\n",
              "      <td>871926</td>\n",
              "      <td>16</td>\n",
              "      <td>13904304</td>\n",
              "    </tr>\n",
              "    <tr>\n",
              "      <th>0031K00003Ck5xZQAR</th>\n",
              "      <td>1</td>\n",
              "      <td>960090</td>\n",
              "      <td>158538</td>\n",
              "      <td>1</td>\n",
              "      <td>960090</td>\n",
              "    </tr>\n",
              "    <tr>\n",
              "      <th>0031K00003Ck6GTQAZ</th>\n",
              "      <td>1</td>\n",
              "      <td>955010</td>\n",
              "      <td>158538</td>\n",
              "      <td>5</td>\n",
              "      <td>4382148</td>\n",
              "    </tr>\n",
              "  </tbody>\n",
              "</table>\n",
              "<p>2493 rows × 5 columns</p>\n",
              "</div>\n",
              "      <button class=\"colab-df-convert\" onclick=\"convertToInteractive('df-5badbeaf-4726-4808-8483-e64f95cf260b')\"\n",
              "              title=\"Convert this dataframe to an interactive table.\"\n",
              "              style=\"display:none;\">\n",
              "        \n",
              "  <svg xmlns=\"http://www.w3.org/2000/svg\" height=\"24px\"viewBox=\"0 0 24 24\"\n",
              "       width=\"24px\">\n",
              "    <path d=\"M0 0h24v24H0V0z\" fill=\"none\"/>\n",
              "    <path d=\"M18.56 5.44l.94 2.06.94-2.06 2.06-.94-2.06-.94-.94-2.06-.94 2.06-2.06.94zm-11 1L8.5 8.5l.94-2.06 2.06-.94-2.06-.94L8.5 2.5l-.94 2.06-2.06.94zm10 10l.94 2.06.94-2.06 2.06-.94-2.06-.94-.94-2.06-.94 2.06-2.06.94z\"/><path d=\"M17.41 7.96l-1.37-1.37c-.4-.4-.92-.59-1.43-.59-.52 0-1.04.2-1.43.59L10.3 9.45l-7.72 7.72c-.78.78-.78 2.05 0 2.83L4 21.41c.39.39.9.59 1.41.59.51 0 1.02-.2 1.41-.59l7.78-7.78 2.81-2.81c.8-.78.8-2.07 0-2.86zM5.41 20L4 18.59l7.72-7.72 1.47 1.35L5.41 20z\"/>\n",
              "  </svg>\n",
              "      </button>\n",
              "      \n",
              "  <style>\n",
              "    .colab-df-container {\n",
              "      display:flex;\n",
              "      flex-wrap:wrap;\n",
              "      gap: 12px;\n",
              "    }\n",
              "\n",
              "    .colab-df-convert {\n",
              "      background-color: #E8F0FE;\n",
              "      border: none;\n",
              "      border-radius: 50%;\n",
              "      cursor: pointer;\n",
              "      display: none;\n",
              "      fill: #1967D2;\n",
              "      height: 32px;\n",
              "      padding: 0 0 0 0;\n",
              "      width: 32px;\n",
              "    }\n",
              "\n",
              "    .colab-df-convert:hover {\n",
              "      background-color: #E2EBFA;\n",
              "      box-shadow: 0px 1px 2px rgba(60, 64, 67, 0.3), 0px 1px 3px 1px rgba(60, 64, 67, 0.15);\n",
              "      fill: #174EA6;\n",
              "    }\n",
              "\n",
              "    [theme=dark] .colab-df-convert {\n",
              "      background-color: #3B4455;\n",
              "      fill: #D2E3FC;\n",
              "    }\n",
              "\n",
              "    [theme=dark] .colab-df-convert:hover {\n",
              "      background-color: #434B5C;\n",
              "      box-shadow: 0px 1px 3px 1px rgba(0, 0, 0, 0.15);\n",
              "      filter: drop-shadow(0px 1px 2px rgba(0, 0, 0, 0.3));\n",
              "      fill: #FFFFFF;\n",
              "    }\n",
              "  </style>\n",
              "\n",
              "      <script>\n",
              "        const buttonEl =\n",
              "          document.querySelector('#df-5badbeaf-4726-4808-8483-e64f95cf260b button.colab-df-convert');\n",
              "        buttonEl.style.display =\n",
              "          google.colab.kernel.accessAllowed ? 'block' : 'none';\n",
              "\n",
              "        async function convertToInteractive(key) {\n",
              "          const element = document.querySelector('#df-5badbeaf-4726-4808-8483-e64f95cf260b');\n",
              "          const dataTable =\n",
              "            await google.colab.kernel.invokeFunction('convertToInteractive',\n",
              "                                                     [key], {});\n",
              "          if (!dataTable) return;\n",
              "\n",
              "          const docLinkHtml = 'Like what you see? Visit the ' +\n",
              "            '<a target=\"_blank\" href=https://colab.research.google.com/notebooks/data_table.ipynb>data table notebook</a>'\n",
              "            + ' to learn more about interactive tables.';\n",
              "          element.innerHTML = '';\n",
              "          dataTable['output_type'] = 'display_data';\n",
              "          await google.colab.output.renderOutput(dataTable, element);\n",
              "          const docLink = document.createElement('div');\n",
              "          docLink.innerHTML = docLinkHtml;\n",
              "          element.appendChild(docLink);\n",
              "        }\n",
              "      </script>\n",
              "    </div>\n",
              "  </div>\n",
              "  "
            ]
          },
          "metadata": {},
          "execution_count": 58
        }
      ],
      "source": [
        "s1"
      ]
    },
    {
      "cell_type": "code",
      "execution_count": null,
      "metadata": {
        "id": "uf9cmez4IV40",
        "colab": {
          "base_uri": "https://localhost:8080/"
        },
        "outputId": "a37e2c70-5fa3-47be-d01e-93c906961fdf"
      },
      "outputs": [
        {
          "output_type": "execute_result",
          "data": {
            "text/plain": [
              "(2493, 5)"
            ]
          },
          "metadata": {},
          "execution_count": 59
        }
      ],
      "source": [
        "s1.shape"
      ]
    },
    {
      "cell_type": "code",
      "source": [
        "s2 = s1.merge(df_sent_groupbys, how = 'inner', on = 'contactid')"
      ],
      "metadata": {
        "id": "HcVkhA4yuyc5"
      },
      "execution_count": null,
      "outputs": []
    },
    {
      "cell_type": "code",
      "source": [
        "s2"
      ],
      "metadata": {
        "id": "p35oVIs3z04o",
        "colab": {
          "base_uri": "https://localhost:8080/",
          "height": 455
        },
        "outputId": "2bd9cfea-c4ee-4f7a-c9f0-afa1e7c49384"
      },
      "execution_count": null,
      "outputs": [
        {
          "output_type": "execute_result",
          "data": {
            "text/plain": [
              "                    eventtype_click  sendid_x    urlid  eventtype_open  \\\n",
              "contactid                                                                \n",
              "0031K0000385TiGQAU                1    865923  1517543              33   \n",
              "0031K0000385TrdQAE                1    860781  1511197               8   \n",
              "0031K0000385USpQAM                1    765498   158533               4   \n",
              "0031K0000385UeVQAU                1    765498   290643               8   \n",
              "0031K0000385UkxQAE                1    937762  1300915               2   \n",
              "...                             ...       ...      ...             ...   \n",
              "0031K00003Ck2xbQAB                1    937758  1652199              20   \n",
              "0031K00003Ck44JQAR                1    937758   158538               1   \n",
              "0031K00003Ck5qTQAR                3   2296494   871926              16   \n",
              "0031K00003Ck5xZQAR                1    960090   158538               1   \n",
              "0031K00003Ck6GTQAZ                1    955010   158538               5   \n",
              "\n",
              "                    sendid_y  eventtype_sent    sendid  \n",
              "contactid                                               \n",
              "0031K0000385TiGQAU  29231621              56  49535533  \n",
              "0031K0000385TrdQAE   6468129              15  12301169  \n",
              "0031K0000385USpQAM   3438870              56  49535674  \n",
              "0031K0000385UeVQAU   6368546              56  49535687  \n",
              "0031K0000385UkxQAE   1793333              56  49535706  \n",
              "...                      ...             ...       ...  \n",
              "0031K00003Ck2xbQAB  18380241              16  14381483  \n",
              "0031K00003Ck44JQAR    937758              16  14381503  \n",
              "0031K00003Ck5qTQAR  13904304              16  14381482  \n",
              "0031K00003Ck5xZQAR    960090              15  13418810  \n",
              "0031K00003Ck6GTQAZ   4382148              13  11501160  \n",
              "\n",
              "[2493 rows x 7 columns]"
            ],
            "text/html": [
              "\n",
              "  <div id=\"df-942d9155-49b5-44b4-b935-ea8647847c73\">\n",
              "    <div class=\"colab-df-container\">\n",
              "      <div>\n",
              "<style scoped>\n",
              "    .dataframe tbody tr th:only-of-type {\n",
              "        vertical-align: middle;\n",
              "    }\n",
              "\n",
              "    .dataframe tbody tr th {\n",
              "        vertical-align: top;\n",
              "    }\n",
              "\n",
              "    .dataframe thead th {\n",
              "        text-align: right;\n",
              "    }\n",
              "</style>\n",
              "<table border=\"1\" class=\"dataframe\">\n",
              "  <thead>\n",
              "    <tr style=\"text-align: right;\">\n",
              "      <th></th>\n",
              "      <th>eventtype_click</th>\n",
              "      <th>sendid_x</th>\n",
              "      <th>urlid</th>\n",
              "      <th>eventtype_open</th>\n",
              "      <th>sendid_y</th>\n",
              "      <th>eventtype_sent</th>\n",
              "      <th>sendid</th>\n",
              "    </tr>\n",
              "    <tr>\n",
              "      <th>contactid</th>\n",
              "      <th></th>\n",
              "      <th></th>\n",
              "      <th></th>\n",
              "      <th></th>\n",
              "      <th></th>\n",
              "      <th></th>\n",
              "      <th></th>\n",
              "    </tr>\n",
              "  </thead>\n",
              "  <tbody>\n",
              "    <tr>\n",
              "      <th>0031K0000385TiGQAU</th>\n",
              "      <td>1</td>\n",
              "      <td>865923</td>\n",
              "      <td>1517543</td>\n",
              "      <td>33</td>\n",
              "      <td>29231621</td>\n",
              "      <td>56</td>\n",
              "      <td>49535533</td>\n",
              "    </tr>\n",
              "    <tr>\n",
              "      <th>0031K0000385TrdQAE</th>\n",
              "      <td>1</td>\n",
              "      <td>860781</td>\n",
              "      <td>1511197</td>\n",
              "      <td>8</td>\n",
              "      <td>6468129</td>\n",
              "      <td>15</td>\n",
              "      <td>12301169</td>\n",
              "    </tr>\n",
              "    <tr>\n",
              "      <th>0031K0000385USpQAM</th>\n",
              "      <td>1</td>\n",
              "      <td>765498</td>\n",
              "      <td>158533</td>\n",
              "      <td>4</td>\n",
              "      <td>3438870</td>\n",
              "      <td>56</td>\n",
              "      <td>49535674</td>\n",
              "    </tr>\n",
              "    <tr>\n",
              "      <th>0031K0000385UeVQAU</th>\n",
              "      <td>1</td>\n",
              "      <td>765498</td>\n",
              "      <td>290643</td>\n",
              "      <td>8</td>\n",
              "      <td>6368546</td>\n",
              "      <td>56</td>\n",
              "      <td>49535687</td>\n",
              "    </tr>\n",
              "    <tr>\n",
              "      <th>0031K0000385UkxQAE</th>\n",
              "      <td>1</td>\n",
              "      <td>937762</td>\n",
              "      <td>1300915</td>\n",
              "      <td>2</td>\n",
              "      <td>1793333</td>\n",
              "      <td>56</td>\n",
              "      <td>49535706</td>\n",
              "    </tr>\n",
              "    <tr>\n",
              "      <th>...</th>\n",
              "      <td>...</td>\n",
              "      <td>...</td>\n",
              "      <td>...</td>\n",
              "      <td>...</td>\n",
              "      <td>...</td>\n",
              "      <td>...</td>\n",
              "      <td>...</td>\n",
              "    </tr>\n",
              "    <tr>\n",
              "      <th>0031K00003Ck2xbQAB</th>\n",
              "      <td>1</td>\n",
              "      <td>937758</td>\n",
              "      <td>1652199</td>\n",
              "      <td>20</td>\n",
              "      <td>18380241</td>\n",
              "      <td>16</td>\n",
              "      <td>14381483</td>\n",
              "    </tr>\n",
              "    <tr>\n",
              "      <th>0031K00003Ck44JQAR</th>\n",
              "      <td>1</td>\n",
              "      <td>937758</td>\n",
              "      <td>158538</td>\n",
              "      <td>1</td>\n",
              "      <td>937758</td>\n",
              "      <td>16</td>\n",
              "      <td>14381503</td>\n",
              "    </tr>\n",
              "    <tr>\n",
              "      <th>0031K00003Ck5qTQAR</th>\n",
              "      <td>3</td>\n",
              "      <td>2296494</td>\n",
              "      <td>871926</td>\n",
              "      <td>16</td>\n",
              "      <td>13904304</td>\n",
              "      <td>16</td>\n",
              "      <td>14381482</td>\n",
              "    </tr>\n",
              "    <tr>\n",
              "      <th>0031K00003Ck5xZQAR</th>\n",
              "      <td>1</td>\n",
              "      <td>960090</td>\n",
              "      <td>158538</td>\n",
              "      <td>1</td>\n",
              "      <td>960090</td>\n",
              "      <td>15</td>\n",
              "      <td>13418810</td>\n",
              "    </tr>\n",
              "    <tr>\n",
              "      <th>0031K00003Ck6GTQAZ</th>\n",
              "      <td>1</td>\n",
              "      <td>955010</td>\n",
              "      <td>158538</td>\n",
              "      <td>5</td>\n",
              "      <td>4382148</td>\n",
              "      <td>13</td>\n",
              "      <td>11501160</td>\n",
              "    </tr>\n",
              "  </tbody>\n",
              "</table>\n",
              "<p>2493 rows × 7 columns</p>\n",
              "</div>\n",
              "      <button class=\"colab-df-convert\" onclick=\"convertToInteractive('df-942d9155-49b5-44b4-b935-ea8647847c73')\"\n",
              "              title=\"Convert this dataframe to an interactive table.\"\n",
              "              style=\"display:none;\">\n",
              "        \n",
              "  <svg xmlns=\"http://www.w3.org/2000/svg\" height=\"24px\"viewBox=\"0 0 24 24\"\n",
              "       width=\"24px\">\n",
              "    <path d=\"M0 0h24v24H0V0z\" fill=\"none\"/>\n",
              "    <path d=\"M18.56 5.44l.94 2.06.94-2.06 2.06-.94-2.06-.94-.94-2.06-.94 2.06-2.06.94zm-11 1L8.5 8.5l.94-2.06 2.06-.94-2.06-.94L8.5 2.5l-.94 2.06-2.06.94zm10 10l.94 2.06.94-2.06 2.06-.94-2.06-.94-.94-2.06-.94 2.06-2.06.94z\"/><path d=\"M17.41 7.96l-1.37-1.37c-.4-.4-.92-.59-1.43-.59-.52 0-1.04.2-1.43.59L10.3 9.45l-7.72 7.72c-.78.78-.78 2.05 0 2.83L4 21.41c.39.39.9.59 1.41.59.51 0 1.02-.2 1.41-.59l7.78-7.78 2.81-2.81c.8-.78.8-2.07 0-2.86zM5.41 20L4 18.59l7.72-7.72 1.47 1.35L5.41 20z\"/>\n",
              "  </svg>\n",
              "      </button>\n",
              "      \n",
              "  <style>\n",
              "    .colab-df-container {\n",
              "      display:flex;\n",
              "      flex-wrap:wrap;\n",
              "      gap: 12px;\n",
              "    }\n",
              "\n",
              "    .colab-df-convert {\n",
              "      background-color: #E8F0FE;\n",
              "      border: none;\n",
              "      border-radius: 50%;\n",
              "      cursor: pointer;\n",
              "      display: none;\n",
              "      fill: #1967D2;\n",
              "      height: 32px;\n",
              "      padding: 0 0 0 0;\n",
              "      width: 32px;\n",
              "    }\n",
              "\n",
              "    .colab-df-convert:hover {\n",
              "      background-color: #E2EBFA;\n",
              "      box-shadow: 0px 1px 2px rgba(60, 64, 67, 0.3), 0px 1px 3px 1px rgba(60, 64, 67, 0.15);\n",
              "      fill: #174EA6;\n",
              "    }\n",
              "\n",
              "    [theme=dark] .colab-df-convert {\n",
              "      background-color: #3B4455;\n",
              "      fill: #D2E3FC;\n",
              "    }\n",
              "\n",
              "    [theme=dark] .colab-df-convert:hover {\n",
              "      background-color: #434B5C;\n",
              "      box-shadow: 0px 1px 3px 1px rgba(0, 0, 0, 0.15);\n",
              "      filter: drop-shadow(0px 1px 2px rgba(0, 0, 0, 0.3));\n",
              "      fill: #FFFFFF;\n",
              "    }\n",
              "  </style>\n",
              "\n",
              "      <script>\n",
              "        const buttonEl =\n",
              "          document.querySelector('#df-942d9155-49b5-44b4-b935-ea8647847c73 button.colab-df-convert');\n",
              "        buttonEl.style.display =\n",
              "          google.colab.kernel.accessAllowed ? 'block' : 'none';\n",
              "\n",
              "        async function convertToInteractive(key) {\n",
              "          const element = document.querySelector('#df-942d9155-49b5-44b4-b935-ea8647847c73');\n",
              "          const dataTable =\n",
              "            await google.colab.kernel.invokeFunction('convertToInteractive',\n",
              "                                                     [key], {});\n",
              "          if (!dataTable) return;\n",
              "\n",
              "          const docLinkHtml = 'Like what you see? Visit the ' +\n",
              "            '<a target=\"_blank\" href=https://colab.research.google.com/notebooks/data_table.ipynb>data table notebook</a>'\n",
              "            + ' to learn more about interactive tables.';\n",
              "          element.innerHTML = '';\n",
              "          dataTable['output_type'] = 'display_data';\n",
              "          await google.colab.output.renderOutput(dataTable, element);\n",
              "          const docLink = document.createElement('div');\n",
              "          docLink.innerHTML = docLinkHtml;\n",
              "          element.appendChild(docLink);\n",
              "        }\n",
              "      </script>\n",
              "    </div>\n",
              "  </div>\n",
              "  "
            ]
          },
          "metadata": {},
          "execution_count": 61
        }
      ]
    },
    {
      "cell_type": "code",
      "source": [
        "s2_final = s2.drop(['sendid_x', 'urlid', 'sendid_y', 'sendid'], axis=1)"
      ],
      "metadata": {
        "id": "jjtix2ehGw4v"
      },
      "execution_count": null,
      "outputs": []
    },
    {
      "cell_type": "code",
      "execution_count": null,
      "metadata": {
        "id": "MFhnPcOcImlM",
        "colab": {
          "base_uri": "https://localhost:8080/"
        },
        "outputId": "61b02fa2-e2ad-4099-99d0-2ebe0a453ad4"
      },
      "outputs": [
        {
          "output_type": "execute_result",
          "data": {
            "text/plain": [
              "(2493, 3)"
            ]
          },
          "metadata": {},
          "execution_count": 63
        }
      ],
      "source": [
        "s2_final.shape"
      ]
    },
    {
      "cell_type": "code",
      "source": [
        "s2_final.head()"
      ],
      "metadata": {
        "colab": {
          "base_uri": "https://localhost:8080/",
          "height": 237
        },
        "id": "rUCEKTpqL2JN",
        "outputId": "a00b7aa3-4d17-44d9-bdc8-5fc0b841a4f8"
      },
      "execution_count": null,
      "outputs": [
        {
          "output_type": "execute_result",
          "data": {
            "text/plain": [
              "                    eventtype_click  eventtype_open  eventtype_sent\n",
              "contactid                                                          \n",
              "0031K0000385TiGQAU                1              33              56\n",
              "0031K0000385TrdQAE                1               8              15\n",
              "0031K0000385USpQAM                1               4              56\n",
              "0031K0000385UeVQAU                1               8              56\n",
              "0031K0000385UkxQAE                1               2              56"
            ],
            "text/html": [
              "\n",
              "  <div id=\"df-ab2e50c3-af5b-43ce-9f08-a47941075e80\">\n",
              "    <div class=\"colab-df-container\">\n",
              "      <div>\n",
              "<style scoped>\n",
              "    .dataframe tbody tr th:only-of-type {\n",
              "        vertical-align: middle;\n",
              "    }\n",
              "\n",
              "    .dataframe tbody tr th {\n",
              "        vertical-align: top;\n",
              "    }\n",
              "\n",
              "    .dataframe thead th {\n",
              "        text-align: right;\n",
              "    }\n",
              "</style>\n",
              "<table border=\"1\" class=\"dataframe\">\n",
              "  <thead>\n",
              "    <tr style=\"text-align: right;\">\n",
              "      <th></th>\n",
              "      <th>eventtype_click</th>\n",
              "      <th>eventtype_open</th>\n",
              "      <th>eventtype_sent</th>\n",
              "    </tr>\n",
              "    <tr>\n",
              "      <th>contactid</th>\n",
              "      <th></th>\n",
              "      <th></th>\n",
              "      <th></th>\n",
              "    </tr>\n",
              "  </thead>\n",
              "  <tbody>\n",
              "    <tr>\n",
              "      <th>0031K0000385TiGQAU</th>\n",
              "      <td>1</td>\n",
              "      <td>33</td>\n",
              "      <td>56</td>\n",
              "    </tr>\n",
              "    <tr>\n",
              "      <th>0031K0000385TrdQAE</th>\n",
              "      <td>1</td>\n",
              "      <td>8</td>\n",
              "      <td>15</td>\n",
              "    </tr>\n",
              "    <tr>\n",
              "      <th>0031K0000385USpQAM</th>\n",
              "      <td>1</td>\n",
              "      <td>4</td>\n",
              "      <td>56</td>\n",
              "    </tr>\n",
              "    <tr>\n",
              "      <th>0031K0000385UeVQAU</th>\n",
              "      <td>1</td>\n",
              "      <td>8</td>\n",
              "      <td>56</td>\n",
              "    </tr>\n",
              "    <tr>\n",
              "      <th>0031K0000385UkxQAE</th>\n",
              "      <td>1</td>\n",
              "      <td>2</td>\n",
              "      <td>56</td>\n",
              "    </tr>\n",
              "  </tbody>\n",
              "</table>\n",
              "</div>\n",
              "      <button class=\"colab-df-convert\" onclick=\"convertToInteractive('df-ab2e50c3-af5b-43ce-9f08-a47941075e80')\"\n",
              "              title=\"Convert this dataframe to an interactive table.\"\n",
              "              style=\"display:none;\">\n",
              "        \n",
              "  <svg xmlns=\"http://www.w3.org/2000/svg\" height=\"24px\"viewBox=\"0 0 24 24\"\n",
              "       width=\"24px\">\n",
              "    <path d=\"M0 0h24v24H0V0z\" fill=\"none\"/>\n",
              "    <path d=\"M18.56 5.44l.94 2.06.94-2.06 2.06-.94-2.06-.94-.94-2.06-.94 2.06-2.06.94zm-11 1L8.5 8.5l.94-2.06 2.06-.94-2.06-.94L8.5 2.5l-.94 2.06-2.06.94zm10 10l.94 2.06.94-2.06 2.06-.94-2.06-.94-.94-2.06-.94 2.06-2.06.94z\"/><path d=\"M17.41 7.96l-1.37-1.37c-.4-.4-.92-.59-1.43-.59-.52 0-1.04.2-1.43.59L10.3 9.45l-7.72 7.72c-.78.78-.78 2.05 0 2.83L4 21.41c.39.39.9.59 1.41.59.51 0 1.02-.2 1.41-.59l7.78-7.78 2.81-2.81c.8-.78.8-2.07 0-2.86zM5.41 20L4 18.59l7.72-7.72 1.47 1.35L5.41 20z\"/>\n",
              "  </svg>\n",
              "      </button>\n",
              "      \n",
              "  <style>\n",
              "    .colab-df-container {\n",
              "      display:flex;\n",
              "      flex-wrap:wrap;\n",
              "      gap: 12px;\n",
              "    }\n",
              "\n",
              "    .colab-df-convert {\n",
              "      background-color: #E8F0FE;\n",
              "      border: none;\n",
              "      border-radius: 50%;\n",
              "      cursor: pointer;\n",
              "      display: none;\n",
              "      fill: #1967D2;\n",
              "      height: 32px;\n",
              "      padding: 0 0 0 0;\n",
              "      width: 32px;\n",
              "    }\n",
              "\n",
              "    .colab-df-convert:hover {\n",
              "      background-color: #E2EBFA;\n",
              "      box-shadow: 0px 1px 2px rgba(60, 64, 67, 0.3), 0px 1px 3px 1px rgba(60, 64, 67, 0.15);\n",
              "      fill: #174EA6;\n",
              "    }\n",
              "\n",
              "    [theme=dark] .colab-df-convert {\n",
              "      background-color: #3B4455;\n",
              "      fill: #D2E3FC;\n",
              "    }\n",
              "\n",
              "    [theme=dark] .colab-df-convert:hover {\n",
              "      background-color: #434B5C;\n",
              "      box-shadow: 0px 1px 3px 1px rgba(0, 0, 0, 0.15);\n",
              "      filter: drop-shadow(0px 1px 2px rgba(0, 0, 0, 0.3));\n",
              "      fill: #FFFFFF;\n",
              "    }\n",
              "  </style>\n",
              "\n",
              "      <script>\n",
              "        const buttonEl =\n",
              "          document.querySelector('#df-ab2e50c3-af5b-43ce-9f08-a47941075e80 button.colab-df-convert');\n",
              "        buttonEl.style.display =\n",
              "          google.colab.kernel.accessAllowed ? 'block' : 'none';\n",
              "\n",
              "        async function convertToInteractive(key) {\n",
              "          const element = document.querySelector('#df-ab2e50c3-af5b-43ce-9f08-a47941075e80');\n",
              "          const dataTable =\n",
              "            await google.colab.kernel.invokeFunction('convertToInteractive',\n",
              "                                                     [key], {});\n",
              "          if (!dataTable) return;\n",
              "\n",
              "          const docLinkHtml = 'Like what you see? Visit the ' +\n",
              "            '<a target=\"_blank\" href=https://colab.research.google.com/notebooks/data_table.ipynb>data table notebook</a>'\n",
              "            + ' to learn more about interactive tables.';\n",
              "          element.innerHTML = '';\n",
              "          dataTable['output_type'] = 'display_data';\n",
              "          await google.colab.output.renderOutput(dataTable, element);\n",
              "          const docLink = document.createElement('div');\n",
              "          docLink.innerHTML = docLinkHtml;\n",
              "          element.appendChild(docLink);\n",
              "        }\n",
              "      </script>\n",
              "    </div>\n",
              "  </div>\n",
              "  "
            ]
          },
          "metadata": {},
          "execution_count": 64
        }
      ]
    },
    {
      "cell_type": "markdown",
      "source": [
        "Fix S4 and S4_final for that datetime!"
      ],
      "metadata": {
        "id": "-wEV-qjDGeGd"
      }
    },
    {
      "cell_type": "code",
      "source": [
        "#s3= s3.dropna(axis='columns')\n",
        "# s3 = s3.drop_duplicates(subset=['contactid'], keep=False)\n",
        "#s3"
      ],
      "metadata": {
        "id": "HH6Of-ATrCf6"
      },
      "execution_count": null,
      "outputs": []
    },
    {
      "cell_type": "code",
      "source": [
        "#s4 = s3.merge(df1_no_na, how = 'left', on = 'contactid')\n",
        "#s4"
      ],
      "metadata": {
        "id": "pgA0OrGnrzBB"
      },
      "execution_count": null,
      "outputs": []
    },
    {
      "cell_type": "code",
      "source": [
        "# s4_final = s4.drop_duplicates(subset=['contactid'], keep=False)\n",
        "# s4_final"
      ],
      "metadata": {
        "id": "nHCLVBZz16im"
      },
      "execution_count": null,
      "outputs": []
    },
    {
      "cell_type": "code",
      "source": [
        "# s4_final = df2_no_na.merge(df1_no_na, how = 'left', on = 'contactid')\n",
        "# s4_final"
      ],
      "metadata": {
        "id": "rf-p3MBX1FBi"
      },
      "execution_count": null,
      "outputs": []
    },
    {
      "cell_type": "markdown",
      "source": [
        "DateTime"
      ],
      "metadata": {
        "id": "zrJkvIQB7DV3"
      }
    },
    {
      "cell_type": "code",
      "source": [
        "#takes s4 dataframe and fills null values with zero as to note remove entire rows in order to not lose data. The resulting dataframe with filled values is named s4_final\n",
        "#s4_final = s4.fillna(\"0000-00-00 00:00:00.000\")\n",
        "#s4_final.shape"
      ],
      "metadata": {
        "id": "Z3ZTO3yj3AZw"
      },
      "execution_count": null,
      "outputs": []
    },
    {
      "cell_type": "code",
      "execution_count": null,
      "metadata": {
        "id": "jkTKj8lwlNx-"
      },
      "outputs": [],
      "source": [
        "# features: freq of donations, how long to open and click, how long until first donation"
      ]
    },
    {
      "cell_type": "code",
      "execution_count": null,
      "metadata": {
        "id": "sAH54WTvaByZ",
        "colab": {
          "base_uri": "https://localhost:8080/"
        },
        "outputId": "1babd51a-6a6f-4a9d-98af-13a1d4e4ea29"
      },
      "outputs": [
        {
          "output_type": "execute_result",
          "data": {
            "text/plain": [
              "0        2022-01-01 09:03:41.760\n",
              "1        2022-01-01 09:03:41.760\n",
              "2        2022-01-01 09:03:41.760\n",
              "3        2022-01-01 09:03:41.760\n",
              "4        2022-01-01 09:03:41.760\n",
              "                   ...          \n",
              "398056   2022-07-26 08:10:09.780\n",
              "398057   2022-07-26 08:10:09.780\n",
              "398058   2022-07-26 09:01:13.767\n",
              "398059   2022-07-26 09:01:15.310\n",
              "398060   2022-07-26 09:01:15.310\n",
              "Name: senddate, Length: 398061, dtype: datetime64[ns]"
            ]
          },
          "metadata": {},
          "execution_count": 71
        }
      ],
      "source": [
        "# time difference: send-open, send-click\n",
        "# s4['send_day'] = pd.to_datetime(s4['senddate'])\n",
        "df['senddate'] = pd.to_datetime(df['senddate'], format='%Y-%m-%d %H:%M:%S')\n",
        "# dt = datetime.strptime(datestring, '%Y-%m-%d %H:%M:%S')\n",
        "df['senddate']\n"
      ]
    },
    {
      "cell_type": "code",
      "source": [
        "# s4_final['open_day'] = pd.to_datetime(s4_final['opendate'], format='%Y-%m-%d %H:%M:%S')\n",
        "# s4_final['open_day']"
      ],
      "metadata": {
        "id": "-y3E9-ZWWWeQ"
      },
      "execution_count": null,
      "outputs": []
    },
    {
      "cell_type": "code",
      "source": [
        "# s4_final['click_day'] = pd.to_datetime(s4_final['clickdate'], format='%Y-%m-%d %H:%M:%S')\n",
        "# s4_final['click_day']"
      ],
      "metadata": {
        "id": "YBJZTFW8Wla2"
      },
      "execution_count": null,
      "outputs": []
    },
    {
      "cell_type": "code",
      "source": [
        "# s4_final.shape"
      ],
      "metadata": {
        "id": "Un9uP_hsYFND"
      },
      "execution_count": null,
      "outputs": []
    },
    {
      "cell_type": "code",
      "source": [
        "# s4_final['send_open_hrs'] = (s4_final['open_day'] - s4_final['send_day']).dt.seconds // 3600"
      ],
      "metadata": {
        "id": "JnUC-TgHX66p"
      },
      "execution_count": null,
      "outputs": []
    },
    {
      "cell_type": "code",
      "source": [
        "# s4_final['send_open_hrs']"
      ],
      "metadata": {
        "id": "XKh030QRbtLa"
      },
      "execution_count": null,
      "outputs": []
    },
    {
      "cell_type": "code",
      "source": [
        "# s4_final['send_click_hrs'] = (s4_final['click_day'] - s4_final['send_day']).dt.seconds // 3600"
      ],
      "metadata": {
        "id": "Iax5N6d7cv4z"
      },
      "execution_count": null,
      "outputs": []
    },
    {
      "cell_type": "code",
      "source": [
        "# s4_final['send_click_hrs']"
      ],
      "metadata": {
        "id": "HpQrH0l7c0Oh"
      },
      "execution_count": null,
      "outputs": []
    },
    {
      "cell_type": "code",
      "source": [
        "# s4_final.columns"
      ],
      "metadata": {
        "id": "MSomUtYjeXVx"
      },
      "execution_count": null,
      "outputs": []
    },
    {
      "cell_type": "markdown",
      "source": [
        "#Model Selection"
      ],
      "metadata": {
        "id": "MWqz7NpzaCfu"
      }
    },
    {
      "cell_type": "markdown",
      "source": [
        "Logistic Regression Model"
      ],
      "metadata": {
        "id": "3Z51HHoocVs5"
      }
    },
    {
      "cell_type": "code",
      "source": [
        "from sklearn.linear_model import LogisticRegression\n",
        "from sklearn.model_selection import train_test_split\n",
        "from sklearn.metrics import log_loss\n",
        "from sklearn.metrics import accuracy_score"
      ],
      "metadata": {
        "id": "YoNeMrRyaAjT"
      },
      "execution_count": null,
      "outputs": []
    },
    {
      "cell_type": "code",
      "source": [
        "#data set is already pre-processed, with the proper formatting, outliers and missing values taken care of, and all numerical columns scaled to the [0, 1] interval.\n",
        "feature_list = list(s4_final.select_dtypes(include = ['float64']).columns)\n",
        "feature_list"
      ],
      "metadata": {
        "id": "ggQhvoMwhUf_",
        "colab": {
          "base_uri": "https://localhost:8080/",
          "height": 218
        },
        "outputId": "39f1407d-060b-4a90-cb67-736513f77111"
      },
      "execution_count": null,
      "outputs": [
        {
          "output_type": "error",
          "ename": "NameError",
          "evalue": "ignored",
          "traceback": [
            "\u001b[0;31m---------------------------------------------------------------------------\u001b[0m",
            "\u001b[0;31mNameError\u001b[0m                                 Traceback (most recent call last)",
            "\u001b[0;32m<ipython-input-81-ad56fb0d241c>\u001b[0m in \u001b[0;36m<module>\u001b[0;34m\u001b[0m\n\u001b[1;32m      1\u001b[0m \u001b[0;31m#data set is already pre-processed, with the proper formatting, outliers and missing values taken care of, and all numerical columns scaled to the [0, 1] interval.\u001b[0m\u001b[0;34m\u001b[0m\u001b[0;34m\u001b[0m\u001b[0;34m\u001b[0m\u001b[0m\n\u001b[0;32m----> 2\u001b[0;31m \u001b[0mfeature_list\u001b[0m \u001b[0;34m=\u001b[0m \u001b[0mlist\u001b[0m\u001b[0;34m(\u001b[0m\u001b[0ms4_final\u001b[0m\u001b[0;34m.\u001b[0m\u001b[0mselect_dtypes\u001b[0m\u001b[0;34m(\u001b[0m\u001b[0minclude\u001b[0m \u001b[0;34m=\u001b[0m \u001b[0;34m[\u001b[0m\u001b[0;34m'float64'\u001b[0m\u001b[0;34m]\u001b[0m\u001b[0;34m)\u001b[0m\u001b[0;34m.\u001b[0m\u001b[0mcolumns\u001b[0m\u001b[0;34m)\u001b[0m\u001b[0;34m\u001b[0m\u001b[0;34m\u001b[0m\u001b[0m\n\u001b[0m\u001b[1;32m      3\u001b[0m \u001b[0mfeature_list\u001b[0m\u001b[0;34m\u001b[0m\u001b[0;34m\u001b[0m\u001b[0m\n",
            "\u001b[0;31mNameError\u001b[0m: name 's4_final' is not defined"
          ]
        }
      ]
    },
    {
      "cell_type": "code",
      "source": [
        "y = df['Churn']\n",
        "X = df[feature_list]\n",
        "\n",
        "print(\"Number of examples: \" + str(X.shape[0]))\n",
        "print(\"\\nNumber of Features:\" + str(X.shape[1]))\n",
        "print(str(list(X.columns)))"
      ],
      "metadata": {
        "id": "0lqRs4VihbYE"
      },
      "execution_count": null,
      "outputs": []
    },
    {
      "cell_type": "code",
      "source": [],
      "metadata": {
        "id": "naVs4PdFh24T"
      },
      "execution_count": null,
      "outputs": []
    }
  ],
  "metadata": {
    "colab": {
      "provenance": []
    },
    "kernelspec": {
      "display_name": "Python 3",
      "name": "python3"
    },
    "language_info": {
      "name": "python"
    }
  },
  "nbformat": 4,
  "nbformat_minor": 0
}